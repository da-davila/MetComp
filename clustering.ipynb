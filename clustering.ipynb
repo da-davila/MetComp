{
 "metadata": {
  "name": "",
  "signature": "sha256:3a88b783921d2027301edcca91441b594eb6fb29eff127481781aab1a712bbc8"
 },
 "nbformat": 3,
 "nbformat_minor": 0,
 "worksheets": [
  {
   "cells": [
    {
     "cell_type": "code",
     "collapsed": false,
     "input": [
      "%pylab inline"
     ],
     "language": "python",
     "metadata": {},
     "outputs": [
      {
       "output_type": "stream",
       "stream": "stdout",
       "text": [
        "Populating the interactive namespace from numpy and matplotlib\n"
       ]
      }
     ],
     "prompt_number": 79
    },
    {
     "cell_type": "code",
     "collapsed": false,
     "input": [
      "ArchEntrada = \"data.dat\""
     ],
     "language": "python",
     "metadata": {},
     "outputs": [],
     "prompt_number": 80
    },
    {
     "cell_type": "code",
     "collapsed": false,
     "input": [
      "data = loadtxt(ArchEntrada)"
     ],
     "language": "python",
     "metadata": {},
     "outputs": [],
     "prompt_number": 81
    },
    {
     "cell_type": "code",
     "collapsed": false,
     "input": [
      "data"
     ],
     "language": "python",
     "metadata": {},
     "outputs": [
      {
       "metadata": {},
       "output_type": "pyout",
       "prompt_number": 82,
       "text": [
        "array([[  1.30728392,  11.21391315],\n",
        "       [ -0.27155639,  11.54247028],\n",
        "       [ -0.42386486,  13.21317045],\n",
        "       [  1.28722983,  10.48764629],\n",
        "       [ -0.53338259,  10.04564085],\n",
        "       [ -0.12585717,  10.76452804],\n",
        "       [  0.06736538,  10.65611664],\n",
        "       [ -0.39079316,   8.10818124],\n",
        "       [ -0.26153533,  13.19127086],\n",
        "       [  0.72687173,  12.05783933],\n",
        "       [ 10.14571555,   1.18425234],\n",
        "       [  9.21400569,   0.32863743],\n",
        "       [  8.68396009,   2.73302796],\n",
        "       [  9.77689368,   0.21671706],\n",
        "       [ 10.07836241,   3.10693573],\n",
        "       [ 10.86448153,   0.5244432 ],\n",
        "       [  8.84931024,   0.96105481],\n",
        "       [ 10.08831983,   1.87448027],\n",
        "       [  8.02780382,   1.32943945],\n",
        "       [  9.58663322,   1.25171099]])"
       ]
      }
     ],
     "prompt_number": 82
    },
    {
     "cell_type": "code",
     "collapsed": false,
     "input": [
      "scatter (data[:,0],data[:,1])"
     ],
     "language": "python",
     "metadata": {},
     "outputs": [
      {
       "metadata": {},
       "output_type": "pyout",
       "prompt_number": 83,
       "text": [
        "<matplotlib.collections.PathCollection at 0x5950290>"
       ]
      },
      {
       "metadata": {},
       "output_type": "display_data",
       "png": "[encoded data removed]",
       "text": [
        "<matplotlib.figure.Figure at 0x4c89a10>"
       ]
      }
     ],
     "prompt_number": 83
    },
    {
     "cell_type": "code",
     "collapsed": false,
     "input": [
      "centro1 = (12*random.rand(),14*random.rand())"
     ],
     "language": "python",
     "metadata": {},
     "outputs": [],
     "prompt_number": 84
    },
    {
     "cell_type": "code",
     "collapsed": false,
     "input": [
      "centro2 = (12*random.rand(),14*random.rand())"
     ],
     "language": "python",
     "metadata": {},
     "outputs": [],
     "prompt_number": 85
    },
    {
     "cell_type": "code",
     "collapsed": false,
     "input": [
      "grupo1 = zeros((1,2))\n",
      "grupo2 = zeros((1,2))"
     ],
     "language": "python",
     "metadata": {},
     "outputs": [],
     "prompt_number": 86
    },
    {
     "cell_type": "code",
     "collapsed": false,
     "input": [
      "dims = shape(data)\n",
      "dims"
     ],
     "language": "python",
     "metadata": {},
     "outputs": [
      {
       "metadata": {},
       "output_type": "pyout",
       "prompt_number": 87,
       "text": [
        "(20, 2)"
       ]
      }
     ],
     "prompt_number": 87
    },
    {
     "cell_type": "code",
     "collapsed": false,
     "input": [
      "for i in range (dims[0]):\n",
      "    dist1 = sqrt((data[i,0] - centro1[0])**2 + (data[i,1] - centro1[1])**2)\n",
      "    dist2 = sqrt((data[i,0] - centro2[0])**2 + (data[i,1] - centro2[1])**2)\n",
      "    if(dist1 > dist2):\n",
      "        grupo1 = vstack([grupo1,data[i,:]])\n",
      "    else:\n",
      "        grupo2 = vstack([grupo2,data[i,:]])"
     ],
     "language": "python",
     "metadata": {},
     "outputs": [],
     "prompt_number": 88
    },
    {
     "cell_type": "code",
     "collapsed": false,
     "input": [
      "grupo1 = numpy.delete(grupo1, (0), axis=0)\n",
      "grupo2 = numpy.delete(grupo2, (0), axis=0)"
     ],
     "language": "python",
     "metadata": {},
     "outputs": [],
     "prompt_number": 89
    },
    {
     "cell_type": "code",
     "collapsed": false,
     "input": [
      "scatter(grupo1[:,0],grupo1[:,1])\n",
      "scatter(grupo2[:,0],grupo2[:,1], c = 'g')\n",
      "scatter(centro1[0],centro1[1], c = 'r')\n",
      "scatter(centro2[0],centro2[1], c = 'r')"
     ],
     "language": "python",
     "metadata": {},
     "outputs": [
      {
       "metadata": {},
       "output_type": "pyout",
       "prompt_number": 90,
       "text": [
        "<matplotlib.collections.PathCollection at 0x5b83850>"
       ]
      },
      {
       "metadata": {},
       "output_type": "display_data",
       "png": "[encoded data removed]",
       "text": [
        "<matplotlib.figure.Figure at 0x53bf6d0>"
       ]
      }
     ],
     "prompt_number": 90
    },
    {
     "cell_type": "code",
     "collapsed": false,
     "input": [
      "xprom1 = 0\n",
      "yprom1 = 0\n",
      "xprom1 = mean(grupo1[:,0])\n",
      "yprom1 = mean(grupo1[:,1])\n",
      "centro1 = (xprom1,yprom1)\n",
      "xprom2 = 0\n",
      "yprom2 = 0\n",
      "xprom2 = mean(grupo2[:,0])\n",
      "yprom2 = mean(grupo2[:,1])\n",
      "centro2 = (xprom2,yprom2)"
     ],
     "language": "python",
     "metadata": {},
     "outputs": [],
     "prompt_number": 91
    },
    {
     "cell_type": "code",
     "collapsed": false,
     "input": [
      "scatter(grupo1[:,0],grupo1[:,1])\n",
      "scatter(grupo2[:,0],grupo2[:,1], c = 'g')\n",
      "scatter(centro1[0],centro1[1], c = 'r')\n",
      "scatter(centro2[0],centro2[1], c = 'r')"
     ],
     "language": "python",
     "metadata": {},
     "outputs": [
      {
       "metadata": {},
       "output_type": "pyout",
       "prompt_number": 92,
       "text": [
        "<matplotlib.collections.PathCollection at 0x5db1590>"
       ]
      },
      {
       "metadata": {},
       "output_type": "display_data",
       "png": "[encoded data removed]",
       "text": [
        "<matplotlib.figure.Figure at 0x53d5690>"
       ]
      }
     ],
     "prompt_number": 92
    },
    {
     "cell_type": "code",
     "collapsed": false,
     "input": [],
     "language": "python",
     "metadata": {},
     "outputs": []
    }
   ],
   "metadata": {}
  }
 ]
}