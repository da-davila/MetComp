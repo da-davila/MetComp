




<!DOCTYPE html>
<html class="   ">
  <head prefix="og: http://ogp.me/ns# fb: http://ogp.me/ns/fb# object: http://ogp.me/ns/object# article: http://ogp.me/ns/article# profile: http://ogp.me/ns/profile#">
    <meta charset='utf-8'>
    <meta http-equiv="X-UA-Compatible" content="IE=edge">
    
    
    <title>3cuerpos/3cuerpos.ipynb at master · jscalderon3227/3cuerpos · GitHub</title>
    <link rel="search" type="application/opensearchdescription+xml" href="/opensearch.xml" title="GitHub" />
    <link rel="fluid-icon" href="https://github.com/fluidicon.png" title="GitHub" />
    <link rel="apple-touch-icon" sizes="57x57" href="/apple-touch-icon-114.png" />
    <link rel="apple-touch-icon" sizes="114x114" href="/apple-touch-icon-114.png" />
    <link rel="apple-touch-icon" sizes="72x72" href="/apple-touch-icon-144.png" />
    <link rel="apple-touch-icon" sizes="144x144" href="/apple-touch-icon-144.png" />
    <meta property="fb:app_id" content="1401488693436528"/>

      <meta content="@github" name="twitter:site" /><meta content="summary" name="twitter:card" /><meta content="jscalderon3227/3cuerpos" name="twitter:title" /><meta content="Contribute to 3cuerpos development by creating an account on GitHub." name="twitter:description" /><meta content="https://avatars3.githubusercontent.com/u/6731267?s=400" name="twitter:image:src" />
<meta content="GitHub" property="og:site_name" /><meta content="object" property="og:type" /><meta content="https://avatars3.githubusercontent.com/u/6731267?s=400" property="og:image" /><meta content="jscalderon3227/3cuerpos" property="og:title" /><meta content="https://github.com/jscalderon3227/3cuerpos" property="og:url" /><meta content="Contribute to 3cuerpos development by creating an account on GitHub." property="og:description" />

    <link rel="assets" href="https://github.global.ssl.fastly.net/">
    <link rel="conduit-xhr" href="https://ghconduit.com:25035/">
    <link rel="xhr-socket" href="/_sockets" />

    <meta name="msapplication-TileImage" content="/windows-tile.png" />
    <meta name="msapplication-TileColor" content="#ffffff" />
    <meta name="selected-link" value="repo_source" data-pjax-transient />
    <meta content="collector.githubapp.com" name="octolytics-host" /><meta content="collector-cdn.github.com" name="octolytics-script-host" /><meta content="github" name="octolytics-app-id" /><meta content="9DFD6C4B:4A35:B43725:5356935A" name="octolytics-dimension-request_id" />
    

    
    
    <link rel="icon" type="image/x-icon" href="https://github.global.ssl.fastly.net/favicon.ico" />

    <meta content="authenticity_token" name="csrf-param" />
<meta content="icTX/5RYG5sMh328nRI/z3COU6sj0qPJRa7AFsJY5DwL6WGqog8fAGkEL5kd6BR83GnsipDcCwkNbkNNs39l/g==" name="csrf-token" />

    <link href="https://github.global.ssl.fastly.net/assets/github-5da842ffec8a31b5975487ab1278c7ac16876671.css" media="all" rel="stylesheet" type="text/css" />
    <link href="https://github.global.ssl.fastly.net/assets/github2-18661076c3227887fee4579938334b0caad031d3.css" media="all" rel="stylesheet" type="text/css" />
    


        <script crossorigin="anonymous" src="https://github.global.ssl.fastly.net/assets/frameworks-f8f8d8ee1afb4365ba5e002fdbc3c8e61738713b.js" type="text/javascript"></script>
        <script async="async" crossorigin="anonymous" src="https://github.global.ssl.fastly.net/assets/github-9b5ee003ab01a44bbc43a93276724dcc2d33a087.js" type="text/javascript"></script>
        
        
      <meta http-equiv="x-pjax-version" content="2e813adb5e95514017718ef18ba6d986">

        <link data-pjax-transient rel='permalink' href='/jscalderon3227/3cuerpos/blob/5dfb8ed10ebbbab87022bfebd68ad50e97122429/3cuerpos.ipynb'>

  <meta name="description" content="Contribute to 3cuerpos development by creating an account on GitHub." />

  <meta content="6731267" name="octolytics-dimension-user_id" /><meta content="jscalderon3227" name="octolytics-dimension-user_login" /><meta content="18995483" name="octolytics-dimension-repository_id" /><meta content="jscalderon3227/3cuerpos" name="octolytics-dimension-repository_nwo" /><meta content="true" name="octolytics-dimension-repository_public" /><meta content="false" name="octolytics-dimension-repository_is_fork" /><meta content="18995483" name="octolytics-dimension-repository_network_root_id" /><meta content="jscalderon3227/3cuerpos" name="octolytics-dimension-repository_network_root_nwo" />
  <link href="https://github.com/jscalderon3227/3cuerpos/commits/master.atom" rel="alternate" title="Recent Commits to 3cuerpos:master" type="application/atom+xml" />

  </head>


  <body class="logged_out  env-production linux vis-public page-blob">
    <a href="#start-of-content" tabindex="1" class="accessibility-aid js-skip-to-content">Skip to content</a>
    <div class="wrapper">
      
      
      
      


      
      <div class="header header-logged-out">
  <div class="container clearfix">

    <a class="header-logo-wordmark" href="https://github.com/">
      <span class="mega-octicon octicon-logo-github"></span>
    </a>

    <div class="header-actions">
        <a class="button primary" href="/join">Sign up</a>
      <a class="button signin" href="/login?return_to=%2Fjscalderon3227%2F3cuerpos%2Fblob%2Fmaster%2F3cuerpos.ipynb">Sign in</a>
    </div>

    <div class="command-bar js-command-bar  in-repository">

      <ul class="top-nav">
          <li class="explore"><a href="/explore">Explore</a></li>
        <li class="features"><a href="/features">Features</a></li>
          <li class="enterprise"><a href="https://enterprise.github.com/">Enterprise</a></li>
          <li class="blog"><a href="/blog">Blog</a></li>
      </ul>
        <form accept-charset="UTF-8" action="/search" class="command-bar-form" id="top_search_form" method="get">

<div class="commandbar">
  <span class="message"></span>
  <input type="text" data-hotkey="/ s" name="q" id="js-command-bar-field" placeholder="Search or type a command" tabindex="1" autocapitalize="off"
    
    
      data-repo="jscalderon3227/3cuerpos"
      data-branch="master"
      data-sha="d83c4ed190416649a74b2b129724307cf083e8b3"
  >
  <div class="display hidden"></div>
</div>

    <input type="hidden" name="nwo" value="jscalderon3227/3cuerpos" />

    <div class="select-menu js-menu-container js-select-menu search-context-select-menu">
      <span class="minibutton select-menu-button js-menu-target" role="button" aria-haspopup="true">
        <span class="js-select-button">This repository</span>
      </span>

      <div class="select-menu-modal-holder js-menu-content js-navigation-container" aria-hidden="true">
        <div class="select-menu-modal">

          <div class="select-menu-item js-navigation-item js-this-repository-navigation-item selected">
            <span class="select-menu-item-icon octicon octicon-check"></span>
            <input type="radio" class="js-search-this-repository" name="search_target" value="repository" checked="checked" />
            <div class="select-menu-item-text js-select-button-text">This repository</div>
          </div> <!-- /.select-menu-item -->

          <div class="select-menu-item js-navigation-item js-all-repositories-navigation-item">
            <span class="select-menu-item-icon octicon octicon-check"></span>
            <input type="radio" name="search_target" value="global" />
            <div class="select-menu-item-text js-select-button-text">All repositories</div>
          </div> <!-- /.select-menu-item -->

        </div>
      </div>
    </div>

  <span class="help tooltipped tooltipped-s" aria-label="Show command bar help">
    <span class="octicon octicon-question"></span>
  </span>


  <input type="hidden" name="ref" value="cmdform">

</form>
    </div>

  </div>
</div>



      <div id="start-of-content" class="accessibility-aid"></div>
          <div class="site" itemscope itemtype="http://schema.org/WebPage">
    <div id="js-flash-container">
      
    </div>
    <div class="pagehead repohead instapaper_ignore readability-menu">
      <div class="container">
        

<ul class="pagehead-actions">


  <li>
    <a href="/login?return_to=%2Fjscalderon3227%2F3cuerpos"
    class="minibutton with-count js-toggler-target star-button tooltipped tooltipped-n"
    aria-label="You must be signed in to star a repository" rel="nofollow">
    <span class="octicon octicon-star"></span>Star
  </a>

    <a class="social-count js-social-count" href="/jscalderon3227/3cuerpos/stargazers">
      0
    </a>

  </li>

    <li>
      <a href="/login?return_to=%2Fjscalderon3227%2F3cuerpos"
        class="minibutton with-count js-toggler-target fork-button tooltipped tooltipped-n"
        aria-label="You must be signed in to fork a repository" rel="nofollow">
        <span class="octicon octicon-git-branch"></span>Fork
      </a>
      <a href="/jscalderon3227/3cuerpos/network" class="social-count">
        0
      </a>
    </li>
</ul>

        <h1 itemscope itemtype="http://data-vocabulary.org/Breadcrumb" class="entry-title public">
          <span class="repo-label"><span>public</span></span>
          <span class="mega-octicon octicon-repo"></span>
          <span class="author"><a href="/jscalderon3227" class="url fn" itemprop="url" rel="author"><span itemprop="title">jscalderon3227</span></a></span><!--
       --><span class="path-divider">/</span><!--
       --><strong><a href="/jscalderon3227/3cuerpos" class="js-current-repository js-repo-home-link">3cuerpos</a></strong>

          <span class="page-context-loader">
            <img alt="Octocat-spinner-32" height="16" src="https://github.global.ssl.fastly.net/images/spinners/octocat-spinner-32.gif" width="16" />
          </span>

        </h1>
      </div><!-- /.container -->
    </div><!-- /.repohead -->

    <div class="container">
      <div class="repository-with-sidebar repo-container new-discussion-timeline js-new-discussion-timeline  ">
        <div class="repository-sidebar clearfix">
            

<div class="sunken-menu vertical-right repo-nav js-repo-nav js-repository-container-pjax js-octicon-loaders">
  <div class="sunken-menu-contents">
    <ul class="sunken-menu-group">
      <li class="tooltipped tooltipped-w" aria-label="Code">
        <a href="/jscalderon3227/3cuerpos" aria-label="Code" class="selected js-selected-navigation-item sunken-menu-item" data-gotokey="c" data-pjax="true" data-selected-links="repo_source repo_downloads repo_commits repo_tags repo_branches /jscalderon3227/3cuerpos">
          <span class="octicon octicon-code"></span> <span class="full-word">Code</span>
          <img alt="Octocat-spinner-32" class="mini-loader" height="16" src="https://github.global.ssl.fastly.net/images/spinners/octocat-spinner-32.gif" width="16" />
</a>      </li>

        <li class="tooltipped tooltipped-w" aria-label="Issues">
          <a href="/jscalderon3227/3cuerpos/issues" aria-label="Issues" class="js-selected-navigation-item sunken-menu-item js-disable-pjax" data-gotokey="i" data-selected-links="repo_issues /jscalderon3227/3cuerpos/issues">
            <span class="octicon octicon-issue-opened"></span> <span class="full-word">Issues</span>
            <span class='counter'>0</span>
            <img alt="Octocat-spinner-32" class="mini-loader" height="16" src="https://github.global.ssl.fastly.net/images/spinners/octocat-spinner-32.gif" width="16" />
</a>        </li>

      <li class="tooltipped tooltipped-w" aria-label="Pull Requests">
        <a href="/jscalderon3227/3cuerpos/pulls" aria-label="Pull Requests" class="js-selected-navigation-item sunken-menu-item js-disable-pjax" data-gotokey="p" data-selected-links="repo_pulls /jscalderon3227/3cuerpos/pulls">
            <span class="octicon octicon-git-pull-request"></span> <span class="full-word">Pull Requests</span>
            <span class='counter'>0</span>
            <img alt="Octocat-spinner-32" class="mini-loader" height="16" src="https://github.global.ssl.fastly.net/images/spinners/octocat-spinner-32.gif" width="16" />
</a>      </li>


    </ul>
    <div class="sunken-menu-separator"></div>
    <ul class="sunken-menu-group">

      <li class="tooltipped tooltipped-w" aria-label="Pulse">
        <a href="/jscalderon3227/3cuerpos/pulse" aria-label="Pulse" class="js-selected-navigation-item sunken-menu-item" data-pjax="true" data-selected-links="pulse /jscalderon3227/3cuerpos/pulse">
          <span class="octicon octicon-pulse"></span> <span class="full-word">Pulse</span>
          <img alt="Octocat-spinner-32" class="mini-loader" height="16" src="https://github.global.ssl.fastly.net/images/spinners/octocat-spinner-32.gif" width="16" />
</a>      </li>

      <li class="tooltipped tooltipped-w" aria-label="Graphs">
        <a href="/jscalderon3227/3cuerpos/graphs" aria-label="Graphs" class="js-selected-navigation-item sunken-menu-item" data-pjax="true" data-selected-links="repo_graphs repo_contributors /jscalderon3227/3cuerpos/graphs">
          <span class="octicon octicon-graph"></span> <span class="full-word">Graphs</span>
          <img alt="Octocat-spinner-32" class="mini-loader" height="16" src="https://github.global.ssl.fastly.net/images/spinners/octocat-spinner-32.gif" width="16" />
</a>      </li>

      <li class="tooltipped tooltipped-w" aria-label="Network">
        <a href="/jscalderon3227/3cuerpos/network" aria-label="Network" class="js-selected-navigation-item sunken-menu-item js-disable-pjax" data-selected-links="repo_network /jscalderon3227/3cuerpos/network">
          <span class="octicon octicon-git-branch"></span> <span class="full-word">Network</span>
          <img alt="Octocat-spinner-32" class="mini-loader" height="16" src="https://github.global.ssl.fastly.net/images/spinners/octocat-spinner-32.gif" width="16" />
</a>      </li>
    </ul>


  </div>
</div>

              <div class="only-with-full-nav">
                

  

<div class="clone-url open"
  data-protocol-type="http"
  data-url="/users/set_protocol?protocol_selector=http&amp;protocol_type=clone">
  <h3><strong>HTTPS</strong> clone URL</h3>
  <div class="clone-url-box">
    <input type="text" class="clone js-url-field"
           value="https://github.com/jscalderon3227/3cuerpos.git" readonly="readonly">

    <span aria-label="copy to clipboard" class="js-zeroclipboard url-box-clippy minibutton zeroclipboard-button" data-clipboard-text="https://github.com/jscalderon3227/3cuerpos.git" data-copied-hint="copied!"><span class="octicon octicon-clippy"></span></span>
  </div>
</div>

  

<div class="clone-url "
  data-protocol-type="subversion"
  data-url="/users/set_protocol?protocol_selector=subversion&amp;protocol_type=clone">
  <h3><strong>Subversion</strong> checkout URL</h3>
  <div class="clone-url-box">
    <input type="text" class="clone js-url-field"
           value="https://github.com/jscalderon3227/3cuerpos" readonly="readonly">

    <span aria-label="copy to clipboard" class="js-zeroclipboard url-box-clippy minibutton zeroclipboard-button" data-clipboard-text="https://github.com/jscalderon3227/3cuerpos" data-copied-hint="copied!"><span class="octicon octicon-clippy"></span></span>
  </div>
</div>


<p class="clone-options">You can clone with
      <a href="#" class="js-clone-selector" data-protocol="http">HTTPS</a>
      or <a href="#" class="js-clone-selector" data-protocol="subversion">Subversion</a>.
  <span class="help tooltipped tooltipped-n" aria-label="Get help on which URL is right for you.">
    <a href="https://help.github.com/articles/which-remote-url-should-i-use">
    <span class="octicon octicon-question"></span>
    </a>
  </span>
</p>



                <a href="/jscalderon3227/3cuerpos/archive/master.zip"
                   class="minibutton sidebar-button"
                   aria-label="Download jscalderon3227/3cuerpos as a zip file"
                   title="Download jscalderon3227/3cuerpos as a zip file"
                   rel="nofollow">
                  <span class="octicon octicon-cloud-download"></span>
                  Download ZIP
                </a>
              </div>
        </div><!-- /.repository-sidebar -->

        <div id="js-repo-pjax-container" class="repository-content context-loader-container" data-pjax-container>
          


<!-- blob contrib key: blob_contributors:v21:14a8b2fcdd9dabf5137b92f6bc703fd4 -->

<p title="This is a placeholder element" class="js-history-link-replace hidden"></p>

<a href="/jscalderon3227/3cuerpos/find/master" data-pjax data-hotkey="t" class="js-show-file-finder" style="display:none">Show File Finder</a>

<div class="file-navigation">
  

<div class="select-menu js-menu-container js-select-menu" >
  <span class="minibutton select-menu-button js-menu-target" data-hotkey="w"
    data-master-branch="master"
    data-ref="master"
    role="button" aria-label="Switch branches or tags" tabindex="0" aria-haspopup="true">
    <span class="octicon octicon-git-branch"></span>
    <i>branch:</i>
    <span class="js-select-button">master</span>
  </span>

  <div class="select-menu-modal-holder js-menu-content js-navigation-container" data-pjax aria-hidden="true">

    <div class="select-menu-modal">
      <div class="select-menu-header">
        <span class="select-menu-title">Switch branches/tags</span>
        <span class="octicon octicon-remove-close js-menu-close"></span>
      </div> <!-- /.select-menu-header -->

      <div class="select-menu-filters">
        <div class="select-menu-text-filter">
          <input type="text" aria-label="Filter branches/tags" id="context-commitish-filter-field" class="js-filterable-field js-navigation-enable" placeholder="Filter branches/tags">
        </div>
        <div class="select-menu-tabs">
          <ul>
            <li class="select-menu-tab">
              <a href="#" data-tab-filter="branches" class="js-select-menu-tab">Branches</a>
            </li>
            <li class="select-menu-tab">
              <a href="#" data-tab-filter="tags" class="js-select-menu-tab">Tags</a>
            </li>
          </ul>
        </div><!-- /.select-menu-tabs -->
      </div><!-- /.select-menu-filters -->

      <div class="select-menu-list select-menu-tab-bucket js-select-menu-tab-bucket" data-tab-filter="branches">

        <div data-filterable-for="context-commitish-filter-field" data-filterable-type="substring">


            <div class="select-menu-item js-navigation-item selected">
              <span class="select-menu-item-icon octicon octicon-check"></span>
              <a href="/jscalderon3227/3cuerpos/blob/master/3cuerpos.ipynb"
                 data-name="master"
                 data-skip-pjax="true"
                 rel="nofollow"
                 class="js-navigation-open select-menu-item-text js-select-button-text css-truncate-target"
                 title="master">master</a>
            </div> <!-- /.select-menu-item -->
        </div>

          <div class="select-menu-no-results">Nothing to show</div>
      </div> <!-- /.select-menu-list -->

      <div class="select-menu-list select-menu-tab-bucket js-select-menu-tab-bucket" data-tab-filter="tags">
        <div data-filterable-for="context-commitish-filter-field" data-filterable-type="substring">


        </div>

        <div class="select-menu-no-results">Nothing to show</div>
      </div> <!-- /.select-menu-list -->

    </div> <!-- /.select-menu-modal -->
  </div> <!-- /.select-menu-modal-holder -->
</div> <!-- /.select-menu -->

  <div class="breadcrumb">
    <span class='repo-root js-repo-root'><span itemscope="" itemtype="http://data-vocabulary.org/Breadcrumb"><a href="/jscalderon3227/3cuerpos" data-branch="master" data-direction="back" data-pjax="true" itemscope="url"><span itemprop="title">3cuerpos</span></a></span></span><span class="separator"> / </span><strong class="final-path">3cuerpos.ipynb</strong> <span aria-label="copy to clipboard" class="js-zeroclipboard minibutton zeroclipboard-button" data-clipboard-text="3cuerpos.ipynb" data-copied-hint="copied!"><span class="octicon octicon-clippy"></span></span>
  </div>
</div>


  <div class="commit file-history-tease">
    <img class="main-avatar" height="24" src="https://1.gravatar.com/avatar/68dff92c66bb4c16e526e19019543e68?d=https%3A%2F%2Fa248.e.akamai.net%2Fassets.github.com%2Fimages%2Fgravatars%2Fgravatar-user-420.png&amp;r=x&amp;s=140" width="24" />
    <span class="author"><span rel="author">users</span></span>
    <local-time datetime="2014-04-21T09:51:52-05:00" from="now" title-format="%Y-%m-%d %H:%M:%S %z" title="2014-04-21 09:51:52 -0500">April 21, 2014</local-time>
    <div class="commit-title">
        <a href="/jscalderon3227/3cuerpos/commit/5dfb8ed10ebbbab87022bfebd68ad50e97122429" class="message" data-pjax="true" title="3 cuerpos">3 cuerpos</a>
    </div>

    <div class="participation">
      <p class="quickstat"><a href="#blob_contributors_box" rel="facebox"><strong>0</strong>  contributors</a></p>
      
    </div>
    <div id="blob_contributors_box" style="display:none">
      <h2 class="facebox-header">Users who have contributed to this file</h2>
      <ul class="facebox-user-list">
      </ul>
    </div>
  </div>

<div class="file-box">
  <div class="file">
    <div class="meta clearfix">
      <div class="info file-name">
        <span class="icon"><b class="octicon octicon-file-text"></b></span>
        <span class="mode" title="File Mode">file</span>
        <span class="meta-divider"></span>
          <span>555 lines (555 sloc)</span>
          <span class="meta-divider"></span>
        <span>69.755 kb</span>
      </div>
      <div class="actions">
        <div class="button-group">
              <a class="minibutton disabled tooltipped tooltipped-w" href="#"
                 aria-label="You must be signed in to make or propose changes">Edit</a>
          <a href="/jscalderon3227/3cuerpos/raw/master/3cuerpos.ipynb" class="button minibutton " id="raw-url">Raw</a>
            <a href="/jscalderon3227/3cuerpos/blame/master/3cuerpos.ipynb" class="button minibutton js-update-url-with-hash">Blame</a>
          <a href="/jscalderon3227/3cuerpos/commits/master/3cuerpos.ipynb" class="button minibutton " rel="nofollow">History</a>
        </div><!-- /.button-group -->
          <a class="minibutton danger disabled empty-icon tooltipped tooltipped-w" href="#"
             aria-label="You must be signed in to make or propose changes">
          Delete
        </a>
      </div><!-- /.actions -->
    </div>
        <div class="blob-wrapper data type-text js-blob-data">
        <table class="file-code file-diff tab-size-8">
          <tr class="file-code-line">
            <td class="blob-line-nums">
              <span id="L1" rel="#L1">1</span>
<span id="L2" rel="#L2">2</span>
<span id="L3" rel="#L3">3</span>
<span id="L4" rel="#L4">4</span>
<span id="L5" rel="#L5">5</span>
<span id="L6" rel="#L6">6</span>
<span id="L7" rel="#L7">7</span>
<span id="L8" rel="#L8">8</span>
<span id="L9" rel="#L9">9</span>
<span id="L10" rel="#L10">10</span>
<span id="L11" rel="#L11">11</span>
<span id="L12" rel="#L12">12</span>
<span id="L13" rel="#L13">13</span>
<span id="L14" rel="#L14">14</span>
<span id="L15" rel="#L15">15</span>
<span id="L16" rel="#L16">16</span>
<span id="L17" rel="#L17">17</span>
<span id="L18" rel="#L18">18</span>
<span id="L19" rel="#L19">19</span>
<span id="L20" rel="#L20">20</span>
<span id="L21" rel="#L21">21</span>
<span id="L22" rel="#L22">22</span>
<span id="L23" rel="#L23">23</span>
<span id="L24" rel="#L24">24</span>
<span id="L25" rel="#L25">25</span>
<span id="L26" rel="#L26">26</span>
<span id="L27" rel="#L27">27</span>
<span id="L28" rel="#L28">28</span>
<span id="L29" rel="#L29">29</span>
<span id="L30" rel="#L30">30</span>
<span id="L31" rel="#L31">31</span>
<span id="L32" rel="#L32">32</span>
<span id="L33" rel="#L33">33</span>
<span id="L34" rel="#L34">34</span>
<span id="L35" rel="#L35">35</span>
<span id="L36" rel="#L36">36</span>
<span id="L37" rel="#L37">37</span>
<span id="L38" rel="#L38">38</span>
<span id="L39" rel="#L39">39</span>
<span id="L40" rel="#L40">40</span>
<span id="L41" rel="#L41">41</span>
<span id="L42" rel="#L42">42</span>
<span id="L43" rel="#L43">43</span>
<span id="L44" rel="#L44">44</span>
<span id="L45" rel="#L45">45</span>
<span id="L46" rel="#L46">46</span>
<span id="L47" rel="#L47">47</span>
<span id="L48" rel="#L48">48</span>
<span id="L49" rel="#L49">49</span>
<span id="L50" rel="#L50">50</span>
<span id="L51" rel="#L51">51</span>
<span id="L52" rel="#L52">52</span>
<span id="L53" rel="#L53">53</span>
<span id="L54" rel="#L54">54</span>
<span id="L55" rel="#L55">55</span>
<span id="L56" rel="#L56">56</span>
<span id="L57" rel="#L57">57</span>
<span id="L58" rel="#L58">58</span>
<span id="L59" rel="#L59">59</span>
<span id="L60" rel="#L60">60</span>
<span id="L61" rel="#L61">61</span>
<span id="L62" rel="#L62">62</span>
<span id="L63" rel="#L63">63</span>
<span id="L64" rel="#L64">64</span>
<span id="L65" rel="#L65">65</span>
<span id="L66" rel="#L66">66</span>
<span id="L67" rel="#L67">67</span>
<span id="L68" rel="#L68">68</span>
<span id="L69" rel="#L69">69</span>
<span id="L70" rel="#L70">70</span>
<span id="L71" rel="#L71">71</span>
<span id="L72" rel="#L72">72</span>
<span id="L73" rel="#L73">73</span>
<span id="L74" rel="#L74">74</span>
<span id="L75" rel="#L75">75</span>
<span id="L76" rel="#L76">76</span>
<span id="L77" rel="#L77">77</span>
<span id="L78" rel="#L78">78</span>
<span id="L79" rel="#L79">79</span>
<span id="L80" rel="#L80">80</span>
<span id="L81" rel="#L81">81</span>
<span id="L82" rel="#L82">82</span>
<span id="L83" rel="#L83">83</span>
<span id="L84" rel="#L84">84</span>
<span id="L85" rel="#L85">85</span>
<span id="L86" rel="#L86">86</span>
<span id="L87" rel="#L87">87</span>
<span id="L88" rel="#L88">88</span>
<span id="L89" rel="#L89">89</span>
<span id="L90" rel="#L90">90</span>
<span id="L91" rel="#L91">91</span>
<span id="L92" rel="#L92">92</span>
<span id="L93" rel="#L93">93</span>
<span id="L94" rel="#L94">94</span>
<span id="L95" rel="#L95">95</span>
<span id="L96" rel="#L96">96</span>
<span id="L97" rel="#L97">97</span>
<span id="L98" rel="#L98">98</span>
<span id="L99" rel="#L99">99</span>
<span id="L100" rel="#L100">100</span>
<span id="L101" rel="#L101">101</span>
<span id="L102" rel="#L102">102</span>
<span id="L103" rel="#L103">103</span>
<span id="L104" rel="#L104">104</span>
<span id="L105" rel="#L105">105</span>
<span id="L106" rel="#L106">106</span>
<span id="L107" rel="#L107">107</span>
<span id="L108" rel="#L108">108</span>
<span id="L109" rel="#L109">109</span>
<span id="L110" rel="#L110">110</span>
<span id="L111" rel="#L111">111</span>
<span id="L112" rel="#L112">112</span>
<span id="L113" rel="#L113">113</span>
<span id="L114" rel="#L114">114</span>
<span id="L115" rel="#L115">115</span>
<span id="L116" rel="#L116">116</span>
<span id="L117" rel="#L117">117</span>
<span id="L118" rel="#L118">118</span>
<span id="L119" rel="#L119">119</span>
<span id="L120" rel="#L120">120</span>
<span id="L121" rel="#L121">121</span>
<span id="L122" rel="#L122">122</span>
<span id="L123" rel="#L123">123</span>
<span id="L124" rel="#L124">124</span>
<span id="L125" rel="#L125">125</span>
<span id="L126" rel="#L126">126</span>
<span id="L127" rel="#L127">127</span>
<span id="L128" rel="#L128">128</span>
<span id="L129" rel="#L129">129</span>
<span id="L130" rel="#L130">130</span>
<span id="L131" rel="#L131">131</span>
<span id="L132" rel="#L132">132</span>
<span id="L133" rel="#L133">133</span>
<span id="L134" rel="#L134">134</span>
<span id="L135" rel="#L135">135</span>
<span id="L136" rel="#L136">136</span>
<span id="L137" rel="#L137">137</span>
<span id="L138" rel="#L138">138</span>
<span id="L139" rel="#L139">139</span>
<span id="L140" rel="#L140">140</span>
<span id="L141" rel="#L141">141</span>
<span id="L142" rel="#L142">142</span>
<span id="L143" rel="#L143">143</span>
<span id="L144" rel="#L144">144</span>
<span id="L145" rel="#L145">145</span>
<span id="L146" rel="#L146">146</span>
<span id="L147" rel="#L147">147</span>
<span id="L148" rel="#L148">148</span>
<span id="L149" rel="#L149">149</span>
<span id="L150" rel="#L150">150</span>
<span id="L151" rel="#L151">151</span>
<span id="L152" rel="#L152">152</span>
<span id="L153" rel="#L153">153</span>
<span id="L154" rel="#L154">154</span>
<span id="L155" rel="#L155">155</span>
<span id="L156" rel="#L156">156</span>
<span id="L157" rel="#L157">157</span>
<span id="L158" rel="#L158">158</span>
<span id="L159" rel="#L159">159</span>
<span id="L160" rel="#L160">160</span>
<span id="L161" rel="#L161">161</span>
<span id="L162" rel="#L162">162</span>
<span id="L163" rel="#L163">163</span>
<span id="L164" rel="#L164">164</span>
<span id="L165" rel="#L165">165</span>
<span id="L166" rel="#L166">166</span>
<span id="L167" rel="#L167">167</span>
<span id="L168" rel="#L168">168</span>
<span id="L169" rel="#L169">169</span>
<span id="L170" rel="#L170">170</span>
<span id="L171" rel="#L171">171</span>
<span id="L172" rel="#L172">172</span>
<span id="L173" rel="#L173">173</span>
<span id="L174" rel="#L174">174</span>
<span id="L175" rel="#L175">175</span>
<span id="L176" rel="#L176">176</span>
<span id="L177" rel="#L177">177</span>
<span id="L178" rel="#L178">178</span>
<span id="L179" rel="#L179">179</span>
<span id="L180" rel="#L180">180</span>
<span id="L181" rel="#L181">181</span>
<span id="L182" rel="#L182">182</span>
<span id="L183" rel="#L183">183</span>
<span id="L184" rel="#L184">184</span>
<span id="L185" rel="#L185">185</span>
<span id="L186" rel="#L186">186</span>
<span id="L187" rel="#L187">187</span>
<span id="L188" rel="#L188">188</span>
<span id="L189" rel="#L189">189</span>
<span id="L190" rel="#L190">190</span>
<span id="L191" rel="#L191">191</span>
<span id="L192" rel="#L192">192</span>
<span id="L193" rel="#L193">193</span>
<span id="L194" rel="#L194">194</span>
<span id="L195" rel="#L195">195</span>
<span id="L196" rel="#L196">196</span>
<span id="L197" rel="#L197">197</span>
<span id="L198" rel="#L198">198</span>
<span id="L199" rel="#L199">199</span>
<span id="L200" rel="#L200">200</span>
<span id="L201" rel="#L201">201</span>
<span id="L202" rel="#L202">202</span>
<span id="L203" rel="#L203">203</span>
<span id="L204" rel="#L204">204</span>
<span id="L205" rel="#L205">205</span>
<span id="L206" rel="#L206">206</span>
<span id="L207" rel="#L207">207</span>
<span id="L208" rel="#L208">208</span>
<span id="L209" rel="#L209">209</span>
<span id="L210" rel="#L210">210</span>
<span id="L211" rel="#L211">211</span>
<span id="L212" rel="#L212">212</span>
<span id="L213" rel="#L213">213</span>
<span id="L214" rel="#L214">214</span>
<span id="L215" rel="#L215">215</span>
<span id="L216" rel="#L216">216</span>
<span id="L217" rel="#L217">217</span>
<span id="L218" rel="#L218">218</span>
<span id="L219" rel="#L219">219</span>
<span id="L220" rel="#L220">220</span>
<span id="L221" rel="#L221">221</span>
<span id="L222" rel="#L222">222</span>
<span id="L223" rel="#L223">223</span>
<span id="L224" rel="#L224">224</span>
<span id="L225" rel="#L225">225</span>
<span id="L226" rel="#L226">226</span>
<span id="L227" rel="#L227">227</span>
<span id="L228" rel="#L228">228</span>
<span id="L229" rel="#L229">229</span>
<span id="L230" rel="#L230">230</span>
<span id="L231" rel="#L231">231</span>
<span id="L232" rel="#L232">232</span>
<span id="L233" rel="#L233">233</span>
<span id="L234" rel="#L234">234</span>
<span id="L235" rel="#L235">235</span>
<span id="L236" rel="#L236">236</span>
<span id="L237" rel="#L237">237</span>
<span id="L238" rel="#L238">238</span>
<span id="L239" rel="#L239">239</span>
<span id="L240" rel="#L240">240</span>
<span id="L241" rel="#L241">241</span>
<span id="L242" rel="#L242">242</span>
<span id="L243" rel="#L243">243</span>
<span id="L244" rel="#L244">244</span>
<span id="L245" rel="#L245">245</span>
<span id="L246" rel="#L246">246</span>
<span id="L247" rel="#L247">247</span>
<span id="L248" rel="#L248">248</span>
<span id="L249" rel="#L249">249</span>
<span id="L250" rel="#L250">250</span>
<span id="L251" rel="#L251">251</span>
<span id="L252" rel="#L252">252</span>
<span id="L253" rel="#L253">253</span>
<span id="L254" rel="#L254">254</span>
<span id="L255" rel="#L255">255</span>
<span id="L256" rel="#L256">256</span>
<span id="L257" rel="#L257">257</span>
<span id="L258" rel="#L258">258</span>
<span id="L259" rel="#L259">259</span>
<span id="L260" rel="#L260">260</span>
<span id="L261" rel="#L261">261</span>
<span id="L262" rel="#L262">262</span>
<span id="L263" rel="#L263">263</span>
<span id="L264" rel="#L264">264</span>
<span id="L265" rel="#L265">265</span>
<span id="L266" rel="#L266">266</span>
<span id="L267" rel="#L267">267</span>
<span id="L268" rel="#L268">268</span>
<span id="L269" rel="#L269">269</span>
<span id="L270" rel="#L270">270</span>
<span id="L271" rel="#L271">271</span>
<span id="L272" rel="#L272">272</span>
<span id="L273" rel="#L273">273</span>
<span id="L274" rel="#L274">274</span>
<span id="L275" rel="#L275">275</span>
<span id="L276" rel="#L276">276</span>
<span id="L277" rel="#L277">277</span>
<span id="L278" rel="#L278">278</span>
<span id="L279" rel="#L279">279</span>
<span id="L280" rel="#L280">280</span>
<span id="L281" rel="#L281">281</span>
<span id="L282" rel="#L282">282</span>
<span id="L283" rel="#L283">283</span>
<span id="L284" rel="#L284">284</span>
<span id="L285" rel="#L285">285</span>
<span id="L286" rel="#L286">286</span>
<span id="L287" rel="#L287">287</span>
<span id="L288" rel="#L288">288</span>
<span id="L289" rel="#L289">289</span>
<span id="L290" rel="#L290">290</span>
<span id="L291" rel="#L291">291</span>
<span id="L292" rel="#L292">292</span>
<span id="L293" rel="#L293">293</span>
<span id="L294" rel="#L294">294</span>
<span id="L295" rel="#L295">295</span>
<span id="L296" rel="#L296">296</span>
<span id="L297" rel="#L297">297</span>
<span id="L298" rel="#L298">298</span>
<span id="L299" rel="#L299">299</span>
<span id="L300" rel="#L300">300</span>
<span id="L301" rel="#L301">301</span>
<span id="L302" rel="#L302">302</span>
<span id="L303" rel="#L303">303</span>
<span id="L304" rel="#L304">304</span>
<span id="L305" rel="#L305">305</span>
<span id="L306" rel="#L306">306</span>
<span id="L307" rel="#L307">307</span>
<span id="L308" rel="#L308">308</span>
<span id="L309" rel="#L309">309</span>
<span id="L310" rel="#L310">310</span>
<span id="L311" rel="#L311">311</span>
<span id="L312" rel="#L312">312</span>
<span id="L313" rel="#L313">313</span>
<span id="L314" rel="#L314">314</span>
<span id="L315" rel="#L315">315</span>
<span id="L316" rel="#L316">316</span>
<span id="L317" rel="#L317">317</span>
<span id="L318" rel="#L318">318</span>
<span id="L319" rel="#L319">319</span>
<span id="L320" rel="#L320">320</span>
<span id="L321" rel="#L321">321</span>
<span id="L322" rel="#L322">322</span>
<span id="L323" rel="#L323">323</span>
<span id="L324" rel="#L324">324</span>
<span id="L325" rel="#L325">325</span>
<span id="L326" rel="#L326">326</span>
<span id="L327" rel="#L327">327</span>
<span id="L328" rel="#L328">328</span>
<span id="L329" rel="#L329">329</span>
<span id="L330" rel="#L330">330</span>
<span id="L331" rel="#L331">331</span>
<span id="L332" rel="#L332">332</span>
<span id="L333" rel="#L333">333</span>
<span id="L334" rel="#L334">334</span>
<span id="L335" rel="#L335">335</span>
<span id="L336" rel="#L336">336</span>
<span id="L337" rel="#L337">337</span>
<span id="L338" rel="#L338">338</span>
<span id="L339" rel="#L339">339</span>
<span id="L340" rel="#L340">340</span>
<span id="L341" rel="#L341">341</span>
<span id="L342" rel="#L342">342</span>
<span id="L343" rel="#L343">343</span>
<span id="L344" rel="#L344">344</span>
<span id="L345" rel="#L345">345</span>
<span id="L346" rel="#L346">346</span>
<span id="L347" rel="#L347">347</span>
<span id="L348" rel="#L348">348</span>
<span id="L349" rel="#L349">349</span>
<span id="L350" rel="#L350">350</span>
<span id="L351" rel="#L351">351</span>
<span id="L352" rel="#L352">352</span>
<span id="L353" rel="#L353">353</span>
<span id="L354" rel="#L354">354</span>
<span id="L355" rel="#L355">355</span>
<span id="L356" rel="#L356">356</span>
<span id="L357" rel="#L357">357</span>
<span id="L358" rel="#L358">358</span>
<span id="L359" rel="#L359">359</span>
<span id="L360" rel="#L360">360</span>
<span id="L361" rel="#L361">361</span>
<span id="L362" rel="#L362">362</span>
<span id="L363" rel="#L363">363</span>
<span id="L364" rel="#L364">364</span>
<span id="L365" rel="#L365">365</span>
<span id="L366" rel="#L366">366</span>
<span id="L367" rel="#L367">367</span>
<span id="L368" rel="#L368">368</span>
<span id="L369" rel="#L369">369</span>
<span id="L370" rel="#L370">370</span>
<span id="L371" rel="#L371">371</span>
<span id="L372" rel="#L372">372</span>
<span id="L373" rel="#L373">373</span>
<span id="L374" rel="#L374">374</span>
<span id="L375" rel="#L375">375</span>
<span id="L376" rel="#L376">376</span>
<span id="L377" rel="#L377">377</span>
<span id="L378" rel="#L378">378</span>
<span id="L379" rel="#L379">379</span>
<span id="L380" rel="#L380">380</span>
<span id="L381" rel="#L381">381</span>
<span id="L382" rel="#L382">382</span>
<span id="L383" rel="#L383">383</span>
<span id="L384" rel="#L384">384</span>
<span id="L385" rel="#L385">385</span>
<span id="L386" rel="#L386">386</span>
<span id="L387" rel="#L387">387</span>
<span id="L388" rel="#L388">388</span>
<span id="L389" rel="#L389">389</span>
<span id="L390" rel="#L390">390</span>
<span id="L391" rel="#L391">391</span>
<span id="L392" rel="#L392">392</span>
<span id="L393" rel="#L393">393</span>
<span id="L394" rel="#L394">394</span>
<span id="L395" rel="#L395">395</span>
<span id="L396" rel="#L396">396</span>
<span id="L397" rel="#L397">397</span>
<span id="L398" rel="#L398">398</span>
<span id="L399" rel="#L399">399</span>
<span id="L400" rel="#L400">400</span>
<span id="L401" rel="#L401">401</span>
<span id="L402" rel="#L402">402</span>
<span id="L403" rel="#L403">403</span>
<span id="L404" rel="#L404">404</span>
<span id="L405" rel="#L405">405</span>
<span id="L406" rel="#L406">406</span>
<span id="L407" rel="#L407">407</span>
<span id="L408" rel="#L408">408</span>
<span id="L409" rel="#L409">409</span>
<span id="L410" rel="#L410">410</span>
<span id="L411" rel="#L411">411</span>
<span id="L412" rel="#L412">412</span>
<span id="L413" rel="#L413">413</span>
<span id="L414" rel="#L414">414</span>
<span id="L415" rel="#L415">415</span>
<span id="L416" rel="#L416">416</span>
<span id="L417" rel="#L417">417</span>
<span id="L418" rel="#L418">418</span>
<span id="L419" rel="#L419">419</span>
<span id="L420" rel="#L420">420</span>
<span id="L421" rel="#L421">421</span>
<span id="L422" rel="#L422">422</span>
<span id="L423" rel="#L423">423</span>
<span id="L424" rel="#L424">424</span>
<span id="L425" rel="#L425">425</span>
<span id="L426" rel="#L426">426</span>
<span id="L427" rel="#L427">427</span>
<span id="L428" rel="#L428">428</span>
<span id="L429" rel="#L429">429</span>
<span id="L430" rel="#L430">430</span>
<span id="L431" rel="#L431">431</span>
<span id="L432" rel="#L432">432</span>
<span id="L433" rel="#L433">433</span>
<span id="L434" rel="#L434">434</span>
<span id="L435" rel="#L435">435</span>
<span id="L436" rel="#L436">436</span>
<span id="L437" rel="#L437">437</span>
<span id="L438" rel="#L438">438</span>
<span id="L439" rel="#L439">439</span>
<span id="L440" rel="#L440">440</span>
<span id="L441" rel="#L441">441</span>
<span id="L442" rel="#L442">442</span>
<span id="L443" rel="#L443">443</span>
<span id="L444" rel="#L444">444</span>
<span id="L445" rel="#L445">445</span>
<span id="L446" rel="#L446">446</span>
<span id="L447" rel="#L447">447</span>
<span id="L448" rel="#L448">448</span>
<span id="L449" rel="#L449">449</span>
<span id="L450" rel="#L450">450</span>
<span id="L451" rel="#L451">451</span>
<span id="L452" rel="#L452">452</span>
<span id="L453" rel="#L453">453</span>
<span id="L454" rel="#L454">454</span>
<span id="L455" rel="#L455">455</span>
<span id="L456" rel="#L456">456</span>
<span id="L457" rel="#L457">457</span>
<span id="L458" rel="#L458">458</span>
<span id="L459" rel="#L459">459</span>
<span id="L460" rel="#L460">460</span>
<span id="L461" rel="#L461">461</span>
<span id="L462" rel="#L462">462</span>
<span id="L463" rel="#L463">463</span>
<span id="L464" rel="#L464">464</span>
<span id="L465" rel="#L465">465</span>
<span id="L466" rel="#L466">466</span>
<span id="L467" rel="#L467">467</span>
<span id="L468" rel="#L468">468</span>
<span id="L469" rel="#L469">469</span>
<span id="L470" rel="#L470">470</span>
<span id="L471" rel="#L471">471</span>
<span id="L472" rel="#L472">472</span>
<span id="L473" rel="#L473">473</span>
<span id="L474" rel="#L474">474</span>
<span id="L475" rel="#L475">475</span>
<span id="L476" rel="#L476">476</span>
<span id="L477" rel="#L477">477</span>
<span id="L478" rel="#L478">478</span>
<span id="L479" rel="#L479">479</span>
<span id="L480" rel="#L480">480</span>
<span id="L481" rel="#L481">481</span>
<span id="L482" rel="#L482">482</span>
<span id="L483" rel="#L483">483</span>
<span id="L484" rel="#L484">484</span>
<span id="L485" rel="#L485">485</span>
<span id="L486" rel="#L486">486</span>
<span id="L487" rel="#L487">487</span>
<span id="L488" rel="#L488">488</span>
<span id="L489" rel="#L489">489</span>
<span id="L490" rel="#L490">490</span>
<span id="L491" rel="#L491">491</span>
<span id="L492" rel="#L492">492</span>
<span id="L493" rel="#L493">493</span>
<span id="L494" rel="#L494">494</span>
<span id="L495" rel="#L495">495</span>
<span id="L496" rel="#L496">496</span>
<span id="L497" rel="#L497">497</span>
<span id="L498" rel="#L498">498</span>
<span id="L499" rel="#L499">499</span>
<span id="L500" rel="#L500">500</span>
<span id="L501" rel="#L501">501</span>
<span id="L502" rel="#L502">502</span>
<span id="L503" rel="#L503">503</span>
<span id="L504" rel="#L504">504</span>
<span id="L505" rel="#L505">505</span>
<span id="L506" rel="#L506">506</span>
<span id="L507" rel="#L507">507</span>
<span id="L508" rel="#L508">508</span>
<span id="L509" rel="#L509">509</span>
<span id="L510" rel="#L510">510</span>
<span id="L511" rel="#L511">511</span>
<span id="L512" rel="#L512">512</span>
<span id="L513" rel="#L513">513</span>
<span id="L514" rel="#L514">514</span>
<span id="L515" rel="#L515">515</span>
<span id="L516" rel="#L516">516</span>
<span id="L517" rel="#L517">517</span>
<span id="L518" rel="#L518">518</span>
<span id="L519" rel="#L519">519</span>
<span id="L520" rel="#L520">520</span>
<span id="L521" rel="#L521">521</span>
<span id="L522" rel="#L522">522</span>
<span id="L523" rel="#L523">523</span>
<span id="L524" rel="#L524">524</span>
<span id="L525" rel="#L525">525</span>
<span id="L526" rel="#L526">526</span>
<span id="L527" rel="#L527">527</span>
<span id="L528" rel="#L528">528</span>
<span id="L529" rel="#L529">529</span>
<span id="L530" rel="#L530">530</span>
<span id="L531" rel="#L531">531</span>
<span id="L532" rel="#L532">532</span>
<span id="L533" rel="#L533">533</span>
<span id="L534" rel="#L534">534</span>
<span id="L535" rel="#L535">535</span>
<span id="L536" rel="#L536">536</span>
<span id="L537" rel="#L537">537</span>
<span id="L538" rel="#L538">538</span>
<span id="L539" rel="#L539">539</span>
<span id="L540" rel="#L540">540</span>
<span id="L541" rel="#L541">541</span>
<span id="L542" rel="#L542">542</span>
<span id="L543" rel="#L543">543</span>
<span id="L544" rel="#L544">544</span>
<span id="L545" rel="#L545">545</span>
<span id="L546" rel="#L546">546</span>
<span id="L547" rel="#L547">547</span>
<span id="L548" rel="#L548">548</span>
<span id="L549" rel="#L549">549</span>
<span id="L550" rel="#L550">550</span>
<span id="L551" rel="#L551">551</span>
<span id="L552" rel="#L552">552</span>
<span id="L553" rel="#L553">553</span>
<span id="L554" rel="#L554">554</span>
<span id="L555" rel="#L555">555</span>

            </td>
            <td class="blob-line-code"><div class="code-body highlight"><pre><div class='line' id='LC1'>{</div><div class='line' id='LC2'>&nbsp;&quot;metadata&quot;: {</div><div class='line' id='LC3'>&nbsp;&nbsp;&quot;name&quot;: &quot;3cuerpos&quot;</div><div class='line' id='LC4'>&nbsp;},</div><div class='line' id='LC5'>&nbsp;&quot;nbformat&quot;: 3,</div><div class='line' id='LC6'>&nbsp;&quot;nbformat_minor&quot;: 0,</div><div class='line' id='LC7'>&nbsp;&quot;worksheets&quot;: [</div><div class='line' id='LC8'>&nbsp;&nbsp;{</div><div class='line' id='LC9'>&nbsp;&nbsp;&nbsp;&quot;cells&quot;: [</div><div class='line' id='LC10'>&nbsp;&nbsp;&nbsp;&nbsp;{</div><div class='line' id='LC11'>&nbsp;&nbsp;&nbsp;&nbsp;&nbsp;&quot;cell_type&quot;: &quot;code&quot;,</div><div class='line' id='LC12'>&nbsp;&nbsp;&nbsp;&nbsp;&nbsp;&quot;collapsed&quot;: false,</div><div class='line' id='LC13'>&nbsp;&nbsp;&nbsp;&nbsp;&nbsp;&quot;input&quot;: [</div><div class='line' id='LC14'>&nbsp;&nbsp;&nbsp;&nbsp;&nbsp;&nbsp;&quot;%pylab inline\n&quot;,</div><div class='line' id='LC15'>&nbsp;&nbsp;&nbsp;&nbsp;&nbsp;&nbsp;&quot;\n&quot;,</div><div class='line' id='LC16'>&nbsp;&nbsp;&nbsp;&nbsp;&nbsp;&nbsp;&quot;#Este programa realiza el c\u00e1lculo por medio del m\u00e9todo de Rugen-Kutta para el problema de los tres cuerpos\n&quot;,</div><div class='line' id='LC17'>&nbsp;&nbsp;&nbsp;&nbsp;&nbsp;&nbsp;&quot;#Se tienen tres cuerpos que definen un tri\u00e1ngulo dentro de una circunferencia y velocidades perpendiculares al plano(condiciones iniciales)\n&quot;,</div><div class='line' id='LC18'>&nbsp;&nbsp;&nbsp;&nbsp;&nbsp;&nbsp;&quot;#Definamos las variables a utilizar:\n&quot;,</div><div class='line' id='LC19'>&nbsp;&nbsp;&nbsp;&nbsp;&nbsp;&nbsp;&quot;\n&quot;,</div><div class='line' id='LC20'>&nbsp;&nbsp;&nbsp;&nbsp;&nbsp;&nbsp;&quot;#Masas (Unidad de masa solar)\n&quot;,</div><div class='line' id='LC21'>&nbsp;&nbsp;&nbsp;&nbsp;&nbsp;&nbsp;&quot;\n&quot;,</div><div class='line' id='LC22'>&nbsp;&nbsp;&nbsp;&nbsp;&nbsp;&nbsp;&quot;m1=40.0\n&quot;,</div><div class='line' id='LC23'>&nbsp;&nbsp;&nbsp;&nbsp;&nbsp;&nbsp;&quot;m2=20.0\n&quot;,</div><div class='line' id='LC24'>&nbsp;&nbsp;&nbsp;&nbsp;&nbsp;&nbsp;&quot;m3=15.0\n&quot;,</div><div class='line' id='LC25'>&nbsp;&nbsp;&nbsp;&nbsp;&nbsp;&nbsp;&quot;#Constante de gravitaci\u00f3n Universal (unidad de ua+3 msun-1 yr-1)\n&quot;,</div><div class='line' id='LC26'>&nbsp;&nbsp;&nbsp;&nbsp;&nbsp;&nbsp;&quot;\n&quot;,</div><div class='line' id='LC27'>&nbsp;&nbsp;&nbsp;&nbsp;&nbsp;&nbsp;&quot;G=39.486\n&quot;,</div><div class='line' id='LC28'>&nbsp;&nbsp;&nbsp;&nbsp;&nbsp;&nbsp;&quot;\n&quot;,</div><div class='line' id='LC29'>&nbsp;&nbsp;&nbsp;&nbsp;&nbsp;&nbsp;&quot;#Radio inicial (convencion)\n&quot;,</div><div class='line' id='LC30'>&nbsp;&nbsp;&nbsp;&nbsp;&nbsp;&nbsp;&quot;\n&quot;,</div><div class='line' id='LC31'>&nbsp;&nbsp;&nbsp;&nbsp;&nbsp;&nbsp;&quot;R=90.0\n&quot;,</div><div class='line' id='LC32'>&nbsp;&nbsp;&nbsp;&nbsp;&nbsp;&nbsp;&quot;\n&quot;,</div><div class='line' id='LC33'>&nbsp;&nbsp;&nbsp;&nbsp;&nbsp;&nbsp;&quot;#Velocidad incial (convencion)\n&quot;,</div><div class='line' id='LC34'>&nbsp;&nbsp;&nbsp;&nbsp;&nbsp;&nbsp;&quot;\n&quot;,</div><div class='line' id='LC35'>&nbsp;&nbsp;&nbsp;&nbsp;&nbsp;&nbsp;&quot;v=0.5\n&quot;,</div><div class='line' id='LC36'>&nbsp;&nbsp;&nbsp;&nbsp;&nbsp;&nbsp;&quot;\n&quot;,</div><div class='line' id='LC37'>&nbsp;&nbsp;&nbsp;&nbsp;&nbsp;&nbsp;&quot;#Definamos una separaci\u00f3n para los intervalos de tiempo\n&quot;,</div><div class='line' id='LC38'>&nbsp;&nbsp;&nbsp;&nbsp;&nbsp;&nbsp;&quot;\n&quot;,</div><div class='line' id='LC39'>&nbsp;&nbsp;&nbsp;&nbsp;&nbsp;&nbsp;&quot;h=0.1\n&quot;,</div><div class='line' id='LC40'>&nbsp;&nbsp;&nbsp;&nbsp;&nbsp;&nbsp;&quot;\n&quot;,</div><div class='line' id='LC41'>&nbsp;&nbsp;&nbsp;&nbsp;&nbsp;&nbsp;&quot;min_t=0.0\n&quot;,</div><div class='line' id='LC42'>&nbsp;&nbsp;&nbsp;&nbsp;&nbsp;&nbsp;&quot;max_t=50.0\n&quot;,</div><div class='line' id='LC43'>&nbsp;&nbsp;&nbsp;&nbsp;&nbsp;&nbsp;&quot;\n&quot;,</div><div class='line' id='LC44'>&nbsp;&nbsp;&nbsp;&nbsp;&nbsp;&nbsp;&quot;n_points=int((max_t-min_t)/h)\n&quot;,</div><div class='line' id='LC45'>&nbsp;&nbsp;&nbsp;&nbsp;&nbsp;&nbsp;&quot;\n&quot;,</div><div class='line' id='LC46'>&nbsp;&nbsp;&nbsp;&nbsp;&nbsp;&nbsp;&quot;t=zeros(n_points)\n&quot;,</div><div class='line' id='LC47'>&nbsp;&nbsp;&nbsp;&nbsp;&nbsp;&nbsp;&quot;\n&quot;,</div><div class='line' id='LC48'>&nbsp;&nbsp;&nbsp;&nbsp;&nbsp;&nbsp;&quot;#Haremos la identificaci\u00f3n de y1 con las funciones de posici\u00f3n y y2 con las funciones de velocidad de esta manera xi_y1 corresponde a la posici\u00f3n en x de la part\u00edcula i\u00e9sima y an\u00e1logo para las otras posiciones y y2.\n&quot;,</div><div class='line' id='LC49'>&nbsp;&nbsp;&nbsp;&nbsp;&nbsp;&nbsp;&quot;#Posiciones:\n&quot;,</div><div class='line' id='LC50'>&nbsp;&nbsp;&nbsp;&nbsp;&nbsp;&nbsp;&quot;\n&quot;,</div><div class='line' id='LC51'>&nbsp;&nbsp;&nbsp;&nbsp;&nbsp;&nbsp;&quot;x1_y1=zeros(n_points)\n&quot;,</div><div class='line' id='LC52'>&nbsp;&nbsp;&nbsp;&nbsp;&nbsp;&nbsp;&quot;y1_y1=zeros(n_points)\n&quot;,</div><div class='line' id='LC53'>&nbsp;&nbsp;&nbsp;&nbsp;&nbsp;&nbsp;&quot;z1_y1=zeros(n_points)\n&quot;,</div><div class='line' id='LC54'>&nbsp;&nbsp;&nbsp;&nbsp;&nbsp;&nbsp;&quot;\n&quot;,</div><div class='line' id='LC55'>&nbsp;&nbsp;&nbsp;&nbsp;&nbsp;&nbsp;&quot;x2_y1=zeros(n_points)\n&quot;,</div><div class='line' id='LC56'>&nbsp;&nbsp;&nbsp;&nbsp;&nbsp;&nbsp;&quot;y2_y1=zeros(n_points)\n&quot;,</div><div class='line' id='LC57'>&nbsp;&nbsp;&nbsp;&nbsp;&nbsp;&nbsp;&quot;z2_y1=zeros(n_points)\n&quot;,</div><div class='line' id='LC58'>&nbsp;&nbsp;&nbsp;&nbsp;&nbsp;&nbsp;&quot;\n&quot;,</div><div class='line' id='LC59'>&nbsp;&nbsp;&nbsp;&nbsp;&nbsp;&nbsp;&quot;x3_y1=zeros(n_points)\n&quot;,</div><div class='line' id='LC60'>&nbsp;&nbsp;&nbsp;&nbsp;&nbsp;&nbsp;&quot;y3_y1=zeros(n_points)\n&quot;,</div><div class='line' id='LC61'>&nbsp;&nbsp;&nbsp;&nbsp;&nbsp;&nbsp;&quot;z3_y1=zeros(n_points)\n&quot;,</div><div class='line' id='LC62'>&nbsp;&nbsp;&nbsp;&nbsp;&nbsp;&nbsp;&quot;\n&quot;,</div><div class='line' id='LC63'>&nbsp;&nbsp;&nbsp;&nbsp;&nbsp;&nbsp;&quot;#Velocidades:\n&quot;,</div><div class='line' id='LC64'>&nbsp;&nbsp;&nbsp;&nbsp;&nbsp;&nbsp;&quot;\n&quot;,</div><div class='line' id='LC65'>&nbsp;&nbsp;&nbsp;&nbsp;&nbsp;&nbsp;&quot;x1_y2=zeros(n_points)\n&quot;,</div><div class='line' id='LC66'>&nbsp;&nbsp;&nbsp;&nbsp;&nbsp;&nbsp;&quot;y1_y2=zeros(n_points)\n&quot;,</div><div class='line' id='LC67'>&nbsp;&nbsp;&nbsp;&nbsp;&nbsp;&nbsp;&quot;z1_y2=zeros(n_points)\n&quot;,</div><div class='line' id='LC68'>&nbsp;&nbsp;&nbsp;&nbsp;&nbsp;&nbsp;&quot;\n&quot;,</div><div class='line' id='LC69'>&nbsp;&nbsp;&nbsp;&nbsp;&nbsp;&nbsp;&quot;x2_y2=zeros(n_points)\n&quot;,</div><div class='line' id='LC70'>&nbsp;&nbsp;&nbsp;&nbsp;&nbsp;&nbsp;&quot;y2_y2=zeros(n_points)\n&quot;,</div><div class='line' id='LC71'>&nbsp;&nbsp;&nbsp;&nbsp;&nbsp;&nbsp;&quot;z2_y2=zeros(n_points)\n&quot;,</div><div class='line' id='LC72'>&nbsp;&nbsp;&nbsp;&nbsp;&nbsp;&nbsp;&quot;\n&quot;,</div><div class='line' id='LC73'>&nbsp;&nbsp;&nbsp;&nbsp;&nbsp;&nbsp;&quot;x3_y2=zeros(n_points)\n&quot;,</div><div class='line' id='LC74'>&nbsp;&nbsp;&nbsp;&nbsp;&nbsp;&nbsp;&quot;y3_y2=zeros(n_points)\n&quot;,</div><div class='line' id='LC75'>&nbsp;&nbsp;&nbsp;&nbsp;&nbsp;&nbsp;&quot;z3_y2=zeros(n_points)\n&quot;,</div><div class='line' id='LC76'>&nbsp;&nbsp;&nbsp;&nbsp;&nbsp;&nbsp;&quot;\n&quot;,</div><div class='line' id='LC77'>&nbsp;&nbsp;&nbsp;&nbsp;&nbsp;&nbsp;&quot;\n&quot;,</div><div class='line' id='LC78'>&nbsp;&nbsp;&nbsp;&nbsp;&nbsp;&nbsp;&quot;#Condiciones iniciales:\n&quot;,</div><div class='line' id='LC79'>&nbsp;&nbsp;&nbsp;&nbsp;&nbsp;&nbsp;&quot;\n&quot;,</div><div class='line' id='LC80'>&nbsp;&nbsp;&nbsp;&nbsp;&nbsp;&nbsp;&quot;t[0]=min_t\n&quot;,</div><div class='line' id='LC81'>&nbsp;&nbsp;&nbsp;&nbsp;&nbsp;&nbsp;&quot;\n&quot;,</div><div class='line' id='LC82'>&nbsp;&nbsp;&nbsp;&nbsp;&nbsp;&nbsp;&quot;#Cuerpo 1\n&quot;,</div><div class='line' id='LC83'>&nbsp;&nbsp;&nbsp;&nbsp;&nbsp;&nbsp;&quot;\n&quot;,</div><div class='line' id='LC84'>&nbsp;&nbsp;&nbsp;&nbsp;&nbsp;&nbsp;&quot;x1_y1[0]=0.0\n&quot;,</div><div class='line' id='LC85'>&nbsp;&nbsp;&nbsp;&nbsp;&nbsp;&nbsp;&quot;y1_y1[0]=R\n&quot;,</div><div class='line' id='LC86'>&nbsp;&nbsp;&nbsp;&nbsp;&nbsp;&nbsp;&quot;z1_y1[0]=0.0\n&quot;,</div><div class='line' id='LC87'>&nbsp;&nbsp;&nbsp;&nbsp;&nbsp;&nbsp;&quot;\n&quot;,</div><div class='line' id='LC88'>&nbsp;&nbsp;&nbsp;&nbsp;&nbsp;&nbsp;&quot;x1_y2[0]=0.0\n&quot;,</div><div class='line' id='LC89'>&nbsp;&nbsp;&nbsp;&nbsp;&nbsp;&nbsp;&quot;y1_y2[0]=0.0\n&quot;,</div><div class='line' id='LC90'>&nbsp;&nbsp;&nbsp;&nbsp;&nbsp;&nbsp;&quot;z1_y2[0]=v\n&quot;,</div><div class='line' id='LC91'>&nbsp;&nbsp;&nbsp;&nbsp;&nbsp;&nbsp;&quot;\n&quot;,</div><div class='line' id='LC92'>&nbsp;&nbsp;&nbsp;&nbsp;&nbsp;&nbsp;&quot;#Cuerpo 2\n&quot;,</div><div class='line' id='LC93'>&nbsp;&nbsp;&nbsp;&nbsp;&nbsp;&nbsp;&quot;\n&quot;,</div><div class='line' id='LC94'>&nbsp;&nbsp;&nbsp;&nbsp;&nbsp;&nbsp;&quot;x2_y1[0]=0.5*R*(3**0.5)\n&quot;,</div><div class='line' id='LC95'>&nbsp;&nbsp;&nbsp;&nbsp;&nbsp;&nbsp;&quot;y2_y1[0]=-0.5*R\n&quot;,</div><div class='line' id='LC96'>&nbsp;&nbsp;&nbsp;&nbsp;&nbsp;&nbsp;&quot;z2_y1[0]=0.0\n&quot;,</div><div class='line' id='LC97'>&nbsp;&nbsp;&nbsp;&nbsp;&nbsp;&nbsp;&quot;\n&quot;,</div><div class='line' id='LC98'>&nbsp;&nbsp;&nbsp;&nbsp;&nbsp;&nbsp;&quot;x2_y2[0]=0.0\n&quot;,</div><div class='line' id='LC99'>&nbsp;&nbsp;&nbsp;&nbsp;&nbsp;&nbsp;&quot;y2_y2[0]=0.0\n&quot;,</div><div class='line' id='LC100'>&nbsp;&nbsp;&nbsp;&nbsp;&nbsp;&nbsp;&quot;z2_y2[0]=v/2\n&quot;,</div><div class='line' id='LC101'>&nbsp;&nbsp;&nbsp;&nbsp;&nbsp;&nbsp;&quot;\n&quot;,</div><div class='line' id='LC102'>&nbsp;&nbsp;&nbsp;&nbsp;&nbsp;&nbsp;&quot;#Cuerpo 3\n&quot;,</div><div class='line' id='LC103'>&nbsp;&nbsp;&nbsp;&nbsp;&nbsp;&nbsp;&quot;\n&quot;,</div><div class='line' id='LC104'>&nbsp;&nbsp;&nbsp;&nbsp;&nbsp;&nbsp;&quot;x3_y1[0]=-0.5*R*(3**0.5)\n&quot;,</div><div class='line' id='LC105'>&nbsp;&nbsp;&nbsp;&nbsp;&nbsp;&nbsp;&quot;y3_y1[0]=-0.5*R\n&quot;,</div><div class='line' id='LC106'>&nbsp;&nbsp;&nbsp;&nbsp;&nbsp;&nbsp;&quot;z3_y1[0]=0.0\n&quot;,</div><div class='line' id='LC107'>&nbsp;&nbsp;&nbsp;&nbsp;&nbsp;&nbsp;&quot;\n&quot;,</div><div class='line' id='LC108'>&nbsp;&nbsp;&nbsp;&nbsp;&nbsp;&nbsp;&quot;x3_y2[0]=0.0\n&quot;,</div><div class='line' id='LC109'>&nbsp;&nbsp;&nbsp;&nbsp;&nbsp;&nbsp;&quot;y3_y2[0]=0.0\n&quot;,</div><div class='line' id='LC110'>&nbsp;&nbsp;&nbsp;&nbsp;&nbsp;&nbsp;&quot;z3_y2[0]=0.0\n&quot;,</div><div class='line' id='LC111'>&nbsp;&nbsp;&nbsp;&nbsp;&nbsp;&nbsp;&quot;\n&quot;,</div><div class='line' id='LC112'>&nbsp;&nbsp;&nbsp;&nbsp;&nbsp;&nbsp;&quot;#Resolvemos las 9 ecuaciones diferenciales al mismo tiempo:\n&quot;,</div><div class='line' id='LC113'>&nbsp;&nbsp;&nbsp;&nbsp;&nbsp;&nbsp;&quot;\n&quot;,</div><div class='line' id='LC114'>&nbsp;&nbsp;&nbsp;&nbsp;&nbsp;&nbsp;&quot;for j in range(1,n_points):\n&quot;,</div><div class='line' id='LC115'>&nbsp;&nbsp;&nbsp;&nbsp;&nbsp;&nbsp;&quot;\n&quot;,</div><div class='line' id='LC116'>&nbsp;&nbsp;&nbsp;&nbsp;&nbsp;&nbsp;&quot;\n&quot;,</div><div class='line' id='LC117'>&nbsp;&nbsp;&nbsp;&nbsp;&nbsp;&nbsp;&quot;\t#Ecuacion dif. para x1\n&quot;,</div><div class='line' id='LC118'>&nbsp;&nbsp;&nbsp;&nbsp;&nbsp;&nbsp;&quot;\n&quot;,</div><div class='line' id='LC119'>&nbsp;&nbsp;&nbsp;&nbsp;&nbsp;&nbsp;&quot;\tdef x1_function_prime_1(t,var_x1_y1,var_x1_y2):\n&quot;,</div><div class='line' id='LC120'>&nbsp;&nbsp;&nbsp;&nbsp;&nbsp;&nbsp;&quot;\t\treturn var_x1_y2\n&quot;,</div><div class='line' id='LC121'>&nbsp;&nbsp;&nbsp;&nbsp;&nbsp;&nbsp;&quot;\n&quot;,</div><div class='line' id='LC122'>&nbsp;&nbsp;&nbsp;&nbsp;&nbsp;&nbsp;&quot;\tdef x1_function_prime_2(t,var_x1_y1,var_x1_y2):\n&quot;,</div><div class='line' id='LC123'>&nbsp;&nbsp;&nbsp;&nbsp;&nbsp;&nbsp;&quot;\t\treturn (G*m2*(x2_y1[j-1]-var_x1_y1)/((((x2_y1[j-1]-var_x1_y1)**2)+((y2_y1[j-1]-y1_y1[j-1])**2)+((z2_y1[j-1]-z1_y1[j-1])**2)))**1.5)+(G*m3*(x3_y1[j-1]-var_x1_y1)/((((x3_y1[j-1]-var_x1_y1)**2)+((y3_y1[j-1]-y1_y1[j-1])**2)+((z3_y1[j-1]-z1_y1[j-1])**2)))**1.5)\n&quot;,</div><div class='line' id='LC124'>&nbsp;&nbsp;&nbsp;&nbsp;&nbsp;&nbsp;&quot;\t\n&quot;,</div><div class='line' id='LC125'>&nbsp;&nbsp;&nbsp;&nbsp;&nbsp;&nbsp;&quot;\t#Ecuacion dif. para x2\t\n&quot;,</div><div class='line' id='LC126'>&nbsp;&nbsp;&nbsp;&nbsp;&nbsp;&nbsp;&quot;\n&quot;,</div><div class='line' id='LC127'>&nbsp;&nbsp;&nbsp;&nbsp;&nbsp;&nbsp;&quot;\tdef x2_function_prime_1(t,var_x2_y1,var_x2_y2):\n&quot;,</div><div class='line' id='LC128'>&nbsp;&nbsp;&nbsp;&nbsp;&nbsp;&nbsp;&quot;\t\treturn var_x2_y2\n&quot;,</div><div class='line' id='LC129'>&nbsp;&nbsp;&nbsp;&nbsp;&nbsp;&nbsp;&quot;\n&quot;,</div><div class='line' id='LC130'>&nbsp;&nbsp;&nbsp;&nbsp;&nbsp;&nbsp;&quot;\tdef x2_function_prime_2(t,var_x2_y1,var_x2_y2):\n&quot;,</div><div class='line' id='LC131'>&nbsp;&nbsp;&nbsp;&nbsp;&nbsp;&nbsp;&quot;\t\treturn (-G*m1*(var_x2_y1-x1_y1[j-1])/((((var_x2_y1-x1_y1[j-1])**2)+((y2_y1[j-1]-y1_y1[j-1])**2)+((z2_y1[j-1]-z1_y1[j-1])**2)))**1.5)+(G*m3*(x3_y1[j-1]-var_x2_y1)/((((x3_y1[j-1]-var_x2_y1)**2)+((y3_y1[j-1]-y2_y1[j-1])**2)+((z3_y1[j-1]-z2_y1[j-1])**2)))**1.5)\n&quot;,</div><div class='line' id='LC132'>&nbsp;&nbsp;&nbsp;&nbsp;&nbsp;&nbsp;&quot;\n&quot;,</div><div class='line' id='LC133'>&nbsp;&nbsp;&nbsp;&nbsp;&nbsp;&nbsp;&quot;\t#Ecuacion dif. para x3\n&quot;,</div><div class='line' id='LC134'>&nbsp;&nbsp;&nbsp;&nbsp;&nbsp;&nbsp;&quot;\n&quot;,</div><div class='line' id='LC135'>&nbsp;&nbsp;&nbsp;&nbsp;&nbsp;&nbsp;&quot;\tdef x3_function_prime_1(t,var_x3_y1,var_x3_y2):\n&quot;,</div><div class='line' id='LC136'>&nbsp;&nbsp;&nbsp;&nbsp;&nbsp;&nbsp;&quot;\t\treturn var_x3_y2\n&quot;,</div><div class='line' id='LC137'>&nbsp;&nbsp;&nbsp;&nbsp;&nbsp;&nbsp;&quot;\n&quot;,</div><div class='line' id='LC138'>&nbsp;&nbsp;&nbsp;&nbsp;&nbsp;&nbsp;&quot;\tdef x3_function_prime_2(t,var_x3_y1,var_x3_y2):\n&quot;,</div><div class='line' id='LC139'>&nbsp;&nbsp;&nbsp;&nbsp;&nbsp;&nbsp;&quot;\t\treturn (-G*m2*(var_x3_y1-x2_y1[j-1])/((((var_x3_y1-x2_y1[j-1])**2)+((y3_y1[j-1]-y2_y1[j-1])**2)+((z3_y1[j-1]-z2_y1[j-1])**2)))**1.5)+(-G*m1*(var_x3_y1-x1_y1[j-1])/((((var_x3_y1-x1_y1[j-1])**2)+((y3_y1[j-1]-y1_y1[j-1])**2)+((z3_y1[j-1]-z1_y1[j-1])**2)))**1.5)\n&quot;,</div><div class='line' id='LC140'>&nbsp;&nbsp;&nbsp;&nbsp;&nbsp;&nbsp;&quot;\t\n&quot;,</div><div class='line' id='LC141'>&nbsp;&nbsp;&nbsp;&nbsp;&nbsp;&nbsp;&quot;\t\n&quot;,</div><div class='line' id='LC142'>&nbsp;&nbsp;&nbsp;&nbsp;&nbsp;&nbsp;&quot;\t#Ecuacion dif. para y1\n&quot;,</div><div class='line' id='LC143'>&nbsp;&nbsp;&nbsp;&nbsp;&nbsp;&nbsp;&quot;\n&quot;,</div><div class='line' id='LC144'>&nbsp;&nbsp;&nbsp;&nbsp;&nbsp;&nbsp;&quot;\tdef y1_function_prime_1(t,var_y1_y1,var_y1_y2):\n&quot;,</div><div class='line' id='LC145'>&nbsp;&nbsp;&nbsp;&nbsp;&nbsp;&nbsp;&quot;\t\treturn var_y1_y2\n&quot;,</div><div class='line' id='LC146'>&nbsp;&nbsp;&nbsp;&nbsp;&nbsp;&nbsp;&quot;\n&quot;,</div><div class='line' id='LC147'>&nbsp;&nbsp;&nbsp;&nbsp;&nbsp;&nbsp;&quot;\tdef y1_function_prime_2(t,var_y1_y1,var_y1_y2):\n&quot;,</div><div class='line' id='LC148'>&nbsp;&nbsp;&nbsp;&nbsp;&nbsp;&nbsp;&quot;\t\treturn (G*m2*(y2_y1[j-1]-var_y1_y1)/((((x2_y1[j-1]-x1_y1[j-1])**2)+((y2_y1[j-1]-var_y1_y1)**2)+((z2_y1[j-1]-z1_y1[j-1])**2)))**1.5)+(G*m3*(y3_y1[j-1]-var_y1_y1)/((((x3_y1[j-1]-x1_y1[j-1])**2)+((y3_y1[j-1]-var_y1_y1)**2)+((z3_y1[j-1]-z1_y1[j-1])**2)))**1.5)\n&quot;,</div><div class='line' id='LC149'>&nbsp;&nbsp;&nbsp;&nbsp;&nbsp;&nbsp;&quot;\t\n&quot;,</div><div class='line' id='LC150'>&nbsp;&nbsp;&nbsp;&nbsp;&nbsp;&nbsp;&quot;\t#Ecuacion dif. para y2\t\n&quot;,</div><div class='line' id='LC151'>&nbsp;&nbsp;&nbsp;&nbsp;&nbsp;&nbsp;&quot;\n&quot;,</div><div class='line' id='LC152'>&nbsp;&nbsp;&nbsp;&nbsp;&nbsp;&nbsp;&quot;\tdef y2_function_prime_1(t,var_y2_y1,var_y2_y2):\n&quot;,</div><div class='line' id='LC153'>&nbsp;&nbsp;&nbsp;&nbsp;&nbsp;&nbsp;&quot;\t\treturn var_y2_y2\n&quot;,</div><div class='line' id='LC154'>&nbsp;&nbsp;&nbsp;&nbsp;&nbsp;&nbsp;&quot;\n&quot;,</div><div class='line' id='LC155'>&nbsp;&nbsp;&nbsp;&nbsp;&nbsp;&nbsp;&quot;\tdef y2_function_prime_2(t,var_y2_y1,var_y2_y2):\n&quot;,</div><div class='line' id='LC156'>&nbsp;&nbsp;&nbsp;&nbsp;&nbsp;&nbsp;&quot;\t\treturn (-G*m1*(var_y2_y1-y1_y1[j-1])/((((x2_y1[j-1]-x1_y1[j-1])**2)+((var_y2_y1-y1_y1[j-1])**2)+((z2_y1[j-1]-z1_y1[j-1])**2)))**1.5)+(G*m3*(y3_y1[j-1]-var_y2_y1)/((((x3_y1[j-1]-x2_y1[j-1])**2)+((y3_y1[j-1]-var_y2_y1)**2)+((z3_y1[j-1]-z2_y1[j-1])**2)))**1.5)\n&quot;,</div><div class='line' id='LC157'>&nbsp;&nbsp;&nbsp;&nbsp;&nbsp;&nbsp;&quot;\n&quot;,</div><div class='line' id='LC158'>&nbsp;&nbsp;&nbsp;&nbsp;&nbsp;&nbsp;&quot;\t#Ecuacion dif. para y3\n&quot;,</div><div class='line' id='LC159'>&nbsp;&nbsp;&nbsp;&nbsp;&nbsp;&nbsp;&quot;\n&quot;,</div><div class='line' id='LC160'>&nbsp;&nbsp;&nbsp;&nbsp;&nbsp;&nbsp;&quot;\tdef y3_function_prime_1(t,var_y3_y1,var_y3_y2):\n&quot;,</div><div class='line' id='LC161'>&nbsp;&nbsp;&nbsp;&nbsp;&nbsp;&nbsp;&quot;\t\treturn var_y3_y2\n&quot;,</div><div class='line' id='LC162'>&nbsp;&nbsp;&nbsp;&nbsp;&nbsp;&nbsp;&quot;\n&quot;,</div><div class='line' id='LC163'>&nbsp;&nbsp;&nbsp;&nbsp;&nbsp;&nbsp;&quot;\tdef y3_function_prime_2(t,var_y3_y1,var_y3_y2):\n&quot;,</div><div class='line' id='LC164'>&nbsp;&nbsp;&nbsp;&nbsp;&nbsp;&nbsp;&quot;\t\treturn (-G*m2*(var_y3_y1-y2_y1[j-1])/((((x3_y1[j-1]-x2_y1[j-1])**2)+((var_y3_y1-y2_y1[j-1])**2)+((z3_y1[j-1]-z2_y1[j-1])**2)))**1.5)+(-G*m1*(var_y3_y1-y1_y1[j-1])/((((x3_y1[j-1]-x1_y1[j-1])**2)+((var_y3_y1-y1_y1[j-1])**2)+((z3_y1[j-1]-z1_y1[j-1])**2)))**1.5)\n&quot;,</div><div class='line' id='LC165'>&nbsp;&nbsp;&nbsp;&nbsp;&nbsp;&nbsp;&quot;\t\n&quot;,</div><div class='line' id='LC166'>&nbsp;&nbsp;&nbsp;&nbsp;&nbsp;&nbsp;&quot;\t\n&quot;,</div><div class='line' id='LC167'>&nbsp;&nbsp;&nbsp;&nbsp;&nbsp;&nbsp;&quot;\t#Ecuacion dif. para z1\n&quot;,</div><div class='line' id='LC168'>&nbsp;&nbsp;&nbsp;&nbsp;&nbsp;&nbsp;&quot;\n&quot;,</div><div class='line' id='LC169'>&nbsp;&nbsp;&nbsp;&nbsp;&nbsp;&nbsp;&quot;\tdef z1_function_prime_1(t,var_z1_y1,var_z1_y2):\n&quot;,</div><div class='line' id='LC170'>&nbsp;&nbsp;&nbsp;&nbsp;&nbsp;&nbsp;&quot;\t\treturn var_z1_y2\n&quot;,</div><div class='line' id='LC171'>&nbsp;&nbsp;&nbsp;&nbsp;&nbsp;&nbsp;&quot;\n&quot;,</div><div class='line' id='LC172'>&nbsp;&nbsp;&nbsp;&nbsp;&nbsp;&nbsp;&quot;\tdef z1_function_prime_2(t,var_z1_y1,var_z1_y2):\n&quot;,</div><div class='line' id='LC173'>&nbsp;&nbsp;&nbsp;&nbsp;&nbsp;&nbsp;&quot;\t\treturn (G*m2*(z2_y1[j-1]-var_z1_y1)/((((x2_y1[j-1]-x1_y1[j-1])**2)+((y2_y1[j-1]-y1_y1[j-1])**2)+((z2_y1[j-1]-var_z1_y1)**2)))**1.5)+(G*m3*(z3_y1[j-1]-var_z1_y1)/((((x3_y1[j-1]-x1_y1[j-1])**2)+((y3_y1[j-1]-y1_y1[j-1])**2)+((z3_y1[j-1]-var_z1_y1)**2)))**1.5)\n&quot;,</div><div class='line' id='LC174'>&nbsp;&nbsp;&nbsp;&nbsp;&nbsp;&nbsp;&quot;\t\n&quot;,</div><div class='line' id='LC175'>&nbsp;&nbsp;&nbsp;&nbsp;&nbsp;&nbsp;&quot;\t#Ecuacion dif. para z2\t\n&quot;,</div><div class='line' id='LC176'>&nbsp;&nbsp;&nbsp;&nbsp;&nbsp;&nbsp;&quot;\n&quot;,</div><div class='line' id='LC177'>&nbsp;&nbsp;&nbsp;&nbsp;&nbsp;&nbsp;&quot;\tdef z2_function_prime_1(t,var_z2_y1,var_z2_y2):\n&quot;,</div><div class='line' id='LC178'>&nbsp;&nbsp;&nbsp;&nbsp;&nbsp;&nbsp;&quot;\t\treturn var_z2_y2\n&quot;,</div><div class='line' id='LC179'>&nbsp;&nbsp;&nbsp;&nbsp;&nbsp;&nbsp;&quot;\n&quot;,</div><div class='line' id='LC180'>&nbsp;&nbsp;&nbsp;&nbsp;&nbsp;&nbsp;&quot;\tdef z2_function_prime_2(t,var_z2_y1,var_z2_y2):\n&quot;,</div><div class='line' id='LC181'>&nbsp;&nbsp;&nbsp;&nbsp;&nbsp;&nbsp;&quot;\t\treturn (-G*m1*(var_z2_y1-z1_y1[j-1])/((((x2_y1[j-1]-x1_y1[j-1])**2)+((y2_y1[j-1]-y1_y1[j-1])**2)+((var_z2_y1-z1_y1[j-1])**2)))**1.5)+(G*m3*(z3_y1[j-1]-var_z2_y1)/((((x3_y1[j-1]-x2_y1[j-1])**2)+((y3_y1[j-1]-y2_y1[j-1])**2)+((z3_y1[j-1]-var_z2_y1)**2)))**1.5)\n&quot;,</div><div class='line' id='LC182'>&nbsp;&nbsp;&nbsp;&nbsp;&nbsp;&nbsp;&quot;\n&quot;,</div><div class='line' id='LC183'>&nbsp;&nbsp;&nbsp;&nbsp;&nbsp;&nbsp;&quot;\t#Ecuacion dif. para z3\n&quot;,</div><div class='line' id='LC184'>&nbsp;&nbsp;&nbsp;&nbsp;&nbsp;&nbsp;&quot;\n&quot;,</div><div class='line' id='LC185'>&nbsp;&nbsp;&nbsp;&nbsp;&nbsp;&nbsp;&quot;\tdef z3_function_prime_1(t,var_z3_y1,var_z3_y2):\n&quot;,</div><div class='line' id='LC186'>&nbsp;&nbsp;&nbsp;&nbsp;&nbsp;&nbsp;&quot;\t\treturn var_z3_y2\n&quot;,</div><div class='line' id='LC187'>&nbsp;&nbsp;&nbsp;&nbsp;&nbsp;&nbsp;&quot;\n&quot;,</div><div class='line' id='LC188'>&nbsp;&nbsp;&nbsp;&nbsp;&nbsp;&nbsp;&quot;\tdef z3_function_prime_2(t,var_z3_y1,var_z3_y2):\n&quot;,</div><div class='line' id='LC189'>&nbsp;&nbsp;&nbsp;&nbsp;&nbsp;&nbsp;&quot;\t\treturn (-G*m2*(var_z3_y1-z2_y1[j-1])/((((x3_y1[j-1]-x2_y1[j-1])**2)+((y3_y1[j-1]-y2_y1[j-1])**2)+((var_z3_y1-z2_y1[j-1])**2)))**1.5)+(-G*m1*(var_z3_y1-z1_y1[j-1])/((((x3_y1[j-1]-x1_y1[j-1])**2)+((y3_y1[j-1]-y1_y1[j-1])**2)+((var_z3_y1-z1_y1[j-1])**2)))**1.5)\n&quot;,</div><div class='line' id='LC190'>&nbsp;&nbsp;&nbsp;&nbsp;&nbsp;&nbsp;&quot;\t\n&quot;,</div><div class='line' id='LC191'>&nbsp;&nbsp;&nbsp;&nbsp;&nbsp;&nbsp;&quot;\n&quot;,</div><div class='line' id='LC192'>&nbsp;&nbsp;&nbsp;&nbsp;&nbsp;&nbsp;&quot;\t#Definimos el proceso de Runge-Kutta:\n&quot;,</div><div class='line' id='LC193'>&nbsp;&nbsp;&nbsp;&nbsp;&nbsp;&nbsp;&quot;\n&quot;,</div><div class='line' id='LC194'>&nbsp;&nbsp;&nbsp;&nbsp;&nbsp;&nbsp;&quot;\tdef RungeKuttaFourthOrderStep(t_old,x1_y1_old,x1_y2_old,x2_y1_old,x2_y2_old,x3_y1_old,x3_y2_old, y1_y1_old,y1_y2_old,y2_y1_old,y2_y2_old,y3_y1_old,y3_y2_old,z1_y1_old,z1_y2_old,z2_y1_old,z2_y2_old,z3_y1_old,z3_y2_old):\n&quot;,</div><div class='line' id='LC195'>&nbsp;&nbsp;&nbsp;&nbsp;&nbsp;&nbsp;&quot;\n&quot;,</div><div class='line' id='LC196'>&nbsp;&nbsp;&nbsp;&nbsp;&nbsp;&nbsp;&quot;\n&quot;,</div><div class='line' id='LC197'>&nbsp;&nbsp;&nbsp;&nbsp;&nbsp;&nbsp;&quot;\t\tx1_k1_prime1 = x1_function_prime_1(t_old,x1_y1_old,x1_y2_old)\n&quot;,</div><div class='line' id='LC198'>&nbsp;&nbsp;&nbsp;&nbsp;&nbsp;&nbsp;&quot;    \t\tx1_k1_prime2 = x1_function_prime_2(t_old,x1_y1_old,x1_y2_old)\n&quot;,</div><div class='line' id='LC199'>&nbsp;&nbsp;&nbsp;&nbsp;&nbsp;&nbsp;&quot;\t\t\n&quot;,</div><div class='line' id='LC200'>&nbsp;&nbsp;&nbsp;&nbsp;&nbsp;&nbsp;&quot;\t\tx2_k1_prime1 = x2_function_prime_1(t_old,x2_y1_old,x2_y2_old)\n&quot;,</div><div class='line' id='LC201'>&nbsp;&nbsp;&nbsp;&nbsp;&nbsp;&nbsp;&quot;    \t\tx2_k1_prime2 = x2_function_prime_2(t_old,x2_y1_old,x2_y2_old)\n&quot;,</div><div class='line' id='LC202'>&nbsp;&nbsp;&nbsp;&nbsp;&nbsp;&nbsp;&quot;\n&quot;,</div><div class='line' id='LC203'>&nbsp;&nbsp;&nbsp;&nbsp;&nbsp;&nbsp;&quot;\t\tx3_k1_prime1 = x3_function_prime_1(t_old,x3_y1_old,x3_y2_old)\n&quot;,</div><div class='line' id='LC204'>&nbsp;&nbsp;&nbsp;&nbsp;&nbsp;&nbsp;&quot;    \t\tx3_k1_prime2 = x3_function_prime_2(t_old,x3_y1_old,x3_y2_old)\n&quot;,</div><div class='line' id='LC205'>&nbsp;&nbsp;&nbsp;&nbsp;&nbsp;&nbsp;&quot;\n&quot;,</div><div class='line' id='LC206'>&nbsp;&nbsp;&nbsp;&nbsp;&nbsp;&nbsp;&quot;\t\ty1_k1_prime1 = y1_function_prime_1(t_old,y1_y1_old,y1_y2_old)\n&quot;,</div><div class='line' id='LC207'>&nbsp;&nbsp;&nbsp;&nbsp;&nbsp;&nbsp;&quot;    \t\ty1_k1_prime2 = y1_function_prime_2(t_old,y1_y1_old,y1_y2_old)\n&quot;,</div><div class='line' id='LC208'>&nbsp;&nbsp;&nbsp;&nbsp;&nbsp;&nbsp;&quot;\t\t\n&quot;,</div><div class='line' id='LC209'>&nbsp;&nbsp;&nbsp;&nbsp;&nbsp;&nbsp;&quot;\t\ty2_k1_prime1 = y2_function_prime_1(t_old,y2_y1_old,y2_y2_old)\n&quot;,</div><div class='line' id='LC210'>&nbsp;&nbsp;&nbsp;&nbsp;&nbsp;&nbsp;&quot;    \t\ty2_k1_prime2 = y2_function_prime_2(t_old,y2_y1_old,y2_y2_old)\n&quot;,</div><div class='line' id='LC211'>&nbsp;&nbsp;&nbsp;&nbsp;&nbsp;&nbsp;&quot;\n&quot;,</div><div class='line' id='LC212'>&nbsp;&nbsp;&nbsp;&nbsp;&nbsp;&nbsp;&quot;\t\ty3_k1_prime1 = y3_function_prime_1(t_old,y3_y1_old,y3_y2_old)\n&quot;,</div><div class='line' id='LC213'>&nbsp;&nbsp;&nbsp;&nbsp;&nbsp;&nbsp;&quot;    \t\ty3_k1_prime2 = y3_function_prime_2(t_old,y3_y1_old,y3_y2_old)\n&quot;,</div><div class='line' id='LC214'>&nbsp;&nbsp;&nbsp;&nbsp;&nbsp;&nbsp;&quot;\n&quot;,</div><div class='line' id='LC215'>&nbsp;&nbsp;&nbsp;&nbsp;&nbsp;&nbsp;&quot;\t\tz1_k1_prime1 = z1_function_prime_1(t_old,z1_y1_old,z1_y2_old)\n&quot;,</div><div class='line' id='LC216'>&nbsp;&nbsp;&nbsp;&nbsp;&nbsp;&nbsp;&quot;    \t\tz1_k1_prime2 = z1_function_prime_2(t_old,z1_y1_old,z1_y2_old)\n&quot;,</div><div class='line' id='LC217'>&nbsp;&nbsp;&nbsp;&nbsp;&nbsp;&nbsp;&quot;\t\t\n&quot;,</div><div class='line' id='LC218'>&nbsp;&nbsp;&nbsp;&nbsp;&nbsp;&nbsp;&quot;\t\tz2_k1_prime1 = z2_function_prime_1(t_old,z2_y1_old,z2_y2_old)\n&quot;,</div><div class='line' id='LC219'>&nbsp;&nbsp;&nbsp;&nbsp;&nbsp;&nbsp;&quot;    \t\tz2_k1_prime2 = z2_function_prime_2(t_old,z2_y1_old,z2_y2_old)\n&quot;,</div><div class='line' id='LC220'>&nbsp;&nbsp;&nbsp;&nbsp;&nbsp;&nbsp;&quot;\n&quot;,</div><div class='line' id='LC221'>&nbsp;&nbsp;&nbsp;&nbsp;&nbsp;&nbsp;&quot;\t\tz3_k1_prime1 = z3_function_prime_1(t_old,z3_y1_old,z3_y2_old)\n&quot;,</div><div class='line' id='LC222'>&nbsp;&nbsp;&nbsp;&nbsp;&nbsp;&nbsp;&quot;    \t\tz3_k1_prime2 = z3_function_prime_2(t_old,z3_y1_old,z3_y2_old)\n&quot;,</div><div class='line' id='LC223'>&nbsp;&nbsp;&nbsp;&nbsp;&nbsp;&nbsp;&quot;\n&quot;,</div><div class='line' id='LC224'>&nbsp;&nbsp;&nbsp;&nbsp;&nbsp;&nbsp;&quot;\t\t#Primer paso\n&quot;,</div><div class='line' id='LC225'>&nbsp;&nbsp;&nbsp;&nbsp;&nbsp;&nbsp;&quot;\n&quot;,</div><div class='line' id='LC226'>&nbsp;&nbsp;&nbsp;&nbsp;&nbsp;&nbsp;&quot;    \t\tt1 = t_old+ (h/2.0)\n&quot;,</div><div class='line' id='LC227'>&nbsp;&nbsp;&nbsp;&nbsp;&nbsp;&nbsp;&quot;\n&quot;,</div><div class='line' id='LC228'>&nbsp;&nbsp;&nbsp;&nbsp;&nbsp;&nbsp;&quot;    \t\tx1_y1_1 = x1_y1_old + ((h/2.0) * x1_k1_prime1)\n&quot;,</div><div class='line' id='LC229'>&nbsp;&nbsp;&nbsp;&nbsp;&nbsp;&nbsp;&quot;   \t\tx1_y2_1 = x1_y2_old + ((h/2.0) * x1_k1_prime2)\n&quot;,</div><div class='line' id='LC230'>&nbsp;&nbsp;&nbsp;&nbsp;&nbsp;&nbsp;&quot;\n&quot;,</div><div class='line' id='LC231'>&nbsp;&nbsp;&nbsp;&nbsp;&nbsp;&nbsp;&quot;\t\tx2_y1_1 = x2_y1_old + ((h/2.0) * x2_k1_prime1)\n&quot;,</div><div class='line' id='LC232'>&nbsp;&nbsp;&nbsp;&nbsp;&nbsp;&nbsp;&quot;   \t\tx2_y2_1 = x2_y2_old + ((h/2.0) * x2_k1_prime2)\n&quot;,</div><div class='line' id='LC233'>&nbsp;&nbsp;&nbsp;&nbsp;&nbsp;&nbsp;&quot;\n&quot;,</div><div class='line' id='LC234'>&nbsp;&nbsp;&nbsp;&nbsp;&nbsp;&nbsp;&quot;\t\tx3_y1_1 = x3_y1_old + ((h/2.0) * x3_k1_prime1)\n&quot;,</div><div class='line' id='LC235'>&nbsp;&nbsp;&nbsp;&nbsp;&nbsp;&nbsp;&quot;   \t\tx3_y2_1 = x3_y2_old + ((h/2.0) * x3_k1_prime2)\n&quot;,</div><div class='line' id='LC236'>&nbsp;&nbsp;&nbsp;&nbsp;&nbsp;&nbsp;&quot;\n&quot;,</div><div class='line' id='LC237'>&nbsp;&nbsp;&nbsp;&nbsp;&nbsp;&nbsp;&quot;\t\ty1_y1_1 = y1_y1_old + ((h/2.0) * y1_k1_prime1)\n&quot;,</div><div class='line' id='LC238'>&nbsp;&nbsp;&nbsp;&nbsp;&nbsp;&nbsp;&quot;   \t\ty1_y2_1 = y1_y2_old + ((h/2.0) * y1_k1_prime2)\n&quot;,</div><div class='line' id='LC239'>&nbsp;&nbsp;&nbsp;&nbsp;&nbsp;&nbsp;&quot;\n&quot;,</div><div class='line' id='LC240'>&nbsp;&nbsp;&nbsp;&nbsp;&nbsp;&nbsp;&quot;\t\ty2_y1_1 = y2_y1_old + ((h/2.0) * y2_k1_prime1)\n&quot;,</div><div class='line' id='LC241'>&nbsp;&nbsp;&nbsp;&nbsp;&nbsp;&nbsp;&quot;   \t\ty2_y2_1 = y2_y2_old + ((h/2.0) * y2_k1_prime2)\n&quot;,</div><div class='line' id='LC242'>&nbsp;&nbsp;&nbsp;&nbsp;&nbsp;&nbsp;&quot;\n&quot;,</div><div class='line' id='LC243'>&nbsp;&nbsp;&nbsp;&nbsp;&nbsp;&nbsp;&quot;\t\ty3_y1_1 = y3_y1_old + ((h/2.0) * y3_k1_prime1)\n&quot;,</div><div class='line' id='LC244'>&nbsp;&nbsp;&nbsp;&nbsp;&nbsp;&nbsp;&quot;   \t\ty3_y2_1 = y3_y2_old + ((h/2.0) * y3_k1_prime2)\n&quot;,</div><div class='line' id='LC245'>&nbsp;&nbsp;&nbsp;&nbsp;&nbsp;&nbsp;&quot;\n&quot;,</div><div class='line' id='LC246'>&nbsp;&nbsp;&nbsp;&nbsp;&nbsp;&nbsp;&quot;\t\tz1_y1_1 = z1_y1_old + ((h/2.0) * z1_k1_prime1)\n&quot;,</div><div class='line' id='LC247'>&nbsp;&nbsp;&nbsp;&nbsp;&nbsp;&nbsp;&quot;   \t\tz1_y2_1 = z1_y2_old + ((h/2.0) * z1_k1_prime2)\n&quot;,</div><div class='line' id='LC248'>&nbsp;&nbsp;&nbsp;&nbsp;&nbsp;&nbsp;&quot;\n&quot;,</div><div class='line' id='LC249'>&nbsp;&nbsp;&nbsp;&nbsp;&nbsp;&nbsp;&quot;\t\tz2_y1_1 = z2_y1_old + ((h/2.0) * z2_k1_prime1)\n&quot;,</div><div class='line' id='LC250'>&nbsp;&nbsp;&nbsp;&nbsp;&nbsp;&nbsp;&quot;   \t\tz2_y2_1 = z2_y2_old + ((h/2.0) * z2_k1_prime2)\n&quot;,</div><div class='line' id='LC251'>&nbsp;&nbsp;&nbsp;&nbsp;&nbsp;&nbsp;&quot;\n&quot;,</div><div class='line' id='LC252'>&nbsp;&nbsp;&nbsp;&nbsp;&nbsp;&nbsp;&quot;\t\tz3_y1_1 = z3_y1_old + ((h/2.0) * z3_k1_prime1)\n&quot;,</div><div class='line' id='LC253'>&nbsp;&nbsp;&nbsp;&nbsp;&nbsp;&nbsp;&quot;   \t\tz3_y2_1 = z3_y2_old + ((h/2.0) * z3_k1_prime2)\n&quot;,</div><div class='line' id='LC254'>&nbsp;&nbsp;&nbsp;&nbsp;&nbsp;&nbsp;&quot;\n&quot;,</div><div class='line' id='LC255'>&nbsp;&nbsp;&nbsp;&nbsp;&nbsp;&nbsp;&quot;   \n&quot;,</div><div class='line' id='LC256'>&nbsp;&nbsp;&nbsp;&nbsp;&nbsp;&nbsp;&quot;\t\tx1_k2_prime1 = x1_function_prime_1(t1, x1_y1_1, x1_y2_1)\n&quot;,</div><div class='line' id='LC257'>&nbsp;&nbsp;&nbsp;&nbsp;&nbsp;&nbsp;&quot;    \t\tx1_k2_prime2 = x1_function_prime_2(t1, x1_y1_1, x1_y2_1)\n&quot;,</div><div class='line' id='LC258'>&nbsp;&nbsp;&nbsp;&nbsp;&nbsp;&nbsp;&quot;\n&quot;,</div><div class='line' id='LC259'>&nbsp;&nbsp;&nbsp;&nbsp;&nbsp;&nbsp;&quot;\t\tx2_k2_prime1 = x2_function_prime_1(t1, x2_y1_1, x2_y2_1)\n&quot;,</div><div class='line' id='LC260'>&nbsp;&nbsp;&nbsp;&nbsp;&nbsp;&nbsp;&quot;    \t\tx2_k2_prime2 = x2_function_prime_2(t1, x2_y1_1, x2_y2_1)\n&quot;,</div><div class='line' id='LC261'>&nbsp;&nbsp;&nbsp;&nbsp;&nbsp;&nbsp;&quot;\n&quot;,</div><div class='line' id='LC262'>&nbsp;&nbsp;&nbsp;&nbsp;&nbsp;&nbsp;&quot;\t\tx3_k2_prime1 = x3_function_prime_1(t1, x3_y1_1, x3_y2_1)\n&quot;,</div><div class='line' id='LC263'>&nbsp;&nbsp;&nbsp;&nbsp;&nbsp;&nbsp;&quot;    \t\tx3_k2_prime2 = x3_function_prime_2(t1, x3_y1_1, x3_y2_1)\n&quot;,</div><div class='line' id='LC264'>&nbsp;&nbsp;&nbsp;&nbsp;&nbsp;&nbsp;&quot;\n&quot;,</div><div class='line' id='LC265'>&nbsp;&nbsp;&nbsp;&nbsp;&nbsp;&nbsp;&quot;\t\ty1_k2_prime1 = y1_function_prime_1(t1, y1_y1_1, y1_y2_1)\n&quot;,</div><div class='line' id='LC266'>&nbsp;&nbsp;&nbsp;&nbsp;&nbsp;&nbsp;&quot;    \t\ty1_k2_prime2 = y1_function_prime_2(t1, y1_y1_1, y1_y2_1)\n&quot;,</div><div class='line' id='LC267'>&nbsp;&nbsp;&nbsp;&nbsp;&nbsp;&nbsp;&quot;\n&quot;,</div><div class='line' id='LC268'>&nbsp;&nbsp;&nbsp;&nbsp;&nbsp;&nbsp;&quot;\t\ty2_k2_prime1 = y2_function_prime_1(t1, y2_y1_1, y2_y2_1)\n&quot;,</div><div class='line' id='LC269'>&nbsp;&nbsp;&nbsp;&nbsp;&nbsp;&nbsp;&quot;    \t\ty2_k2_prime2 = y2_function_prime_2(t1, y2_y1_1, y2_y2_1)\n&quot;,</div><div class='line' id='LC270'>&nbsp;&nbsp;&nbsp;&nbsp;&nbsp;&nbsp;&quot;\n&quot;,</div><div class='line' id='LC271'>&nbsp;&nbsp;&nbsp;&nbsp;&nbsp;&nbsp;&quot;\t\ty3_k2_prime1 = y3_function_prime_1(t1, y3_y1_1, y3_y2_1)\n&quot;,</div><div class='line' id='LC272'>&nbsp;&nbsp;&nbsp;&nbsp;&nbsp;&nbsp;&quot;    \t\ty3_k2_prime2 = y3_function_prime_2(t1, y3_y1_1, y3_y2_1)\n&quot;,</div><div class='line' id='LC273'>&nbsp;&nbsp;&nbsp;&nbsp;&nbsp;&nbsp;&quot;\n&quot;,</div><div class='line' id='LC274'>&nbsp;&nbsp;&nbsp;&nbsp;&nbsp;&nbsp;&quot;\t\tz1_k2_prime1 = z1_function_prime_1(t1, z1_y1_1, z1_y2_1)\n&quot;,</div><div class='line' id='LC275'>&nbsp;&nbsp;&nbsp;&nbsp;&nbsp;&nbsp;&quot;    \t\tz1_k2_prime2 = z1_function_prime_2(t1, z1_y1_1, z1_y2_1)\n&quot;,</div><div class='line' id='LC276'>&nbsp;&nbsp;&nbsp;&nbsp;&nbsp;&nbsp;&quot;\n&quot;,</div><div class='line' id='LC277'>&nbsp;&nbsp;&nbsp;&nbsp;&nbsp;&nbsp;&quot;\t\tz2_k2_prime1 = z2_function_prime_1(t1, z2_y1_1, z2_y2_1)\n&quot;,</div><div class='line' id='LC278'>&nbsp;&nbsp;&nbsp;&nbsp;&nbsp;&nbsp;&quot;    \t\tz2_k2_prime2 = z2_function_prime_2(t1, z2_y1_1, z2_y2_1)\n&quot;,</div><div class='line' id='LC279'>&nbsp;&nbsp;&nbsp;&nbsp;&nbsp;&nbsp;&quot;\n&quot;,</div><div class='line' id='LC280'>&nbsp;&nbsp;&nbsp;&nbsp;&nbsp;&nbsp;&quot;\t\tz3_k2_prime1 = z3_function_prime_1(t1, z3_y1_1, z3_y2_1)\n&quot;,</div><div class='line' id='LC281'>&nbsp;&nbsp;&nbsp;&nbsp;&nbsp;&nbsp;&quot;    \t\tz3_k2_prime2 = z3_function_prime_2(t1, z3_y1_1, z3_y2_1)\n&quot;,</div><div class='line' id='LC282'>&nbsp;&nbsp;&nbsp;&nbsp;&nbsp;&nbsp;&quot;    \n&quot;,</div><div class='line' id='LC283'>&nbsp;&nbsp;&nbsp;&nbsp;&nbsp;&nbsp;&quot;    \t\t#Segundo paso\n&quot;,</div><div class='line' id='LC284'>&nbsp;&nbsp;&nbsp;&nbsp;&nbsp;&nbsp;&quot;\n&quot;,</div><div class='line' id='LC285'>&nbsp;&nbsp;&nbsp;&nbsp;&nbsp;&nbsp;&quot;   \t\tt2 = t_old + (h/2.0)\n&quot;,</div><div class='line' id='LC286'>&nbsp;&nbsp;&nbsp;&nbsp;&nbsp;&nbsp;&quot;\n&quot;,</div><div class='line' id='LC287'>&nbsp;&nbsp;&nbsp;&nbsp;&nbsp;&nbsp;&quot;    \t\tx1_y1_2 = x1_y1_old + ((h/2.0) * (x1_k2_prime1))\n&quot;,</div><div class='line' id='LC288'>&nbsp;&nbsp;&nbsp;&nbsp;&nbsp;&nbsp;&quot;    \t\tx1_y2_2 = x1_y2_old + ((h/2.0) * (x1_k2_prime2))\n&quot;,</div><div class='line' id='LC289'>&nbsp;&nbsp;&nbsp;&nbsp;&nbsp;&nbsp;&quot;\n&quot;,</div><div class='line' id='LC290'>&nbsp;&nbsp;&nbsp;&nbsp;&nbsp;&nbsp;&quot;\t\tx2_y1_2 = x2_y1_old + ((h/2.0) * (x2_k2_prime1))\n&quot;,</div><div class='line' id='LC291'>&nbsp;&nbsp;&nbsp;&nbsp;&nbsp;&nbsp;&quot;    \t\tx2_y2_2 = x2_y2_old + ((h/2.0) * (x2_k2_prime2))\n&quot;,</div><div class='line' id='LC292'>&nbsp;&nbsp;&nbsp;&nbsp;&nbsp;&nbsp;&quot;\n&quot;,</div><div class='line' id='LC293'>&nbsp;&nbsp;&nbsp;&nbsp;&nbsp;&nbsp;&quot;\t\tx3_y1_2 = x3_y1_old + ((h/2.0) * (x3_k2_prime1))\n&quot;,</div><div class='line' id='LC294'>&nbsp;&nbsp;&nbsp;&nbsp;&nbsp;&nbsp;&quot;    \t\tx3_y2_2 = x3_y2_old + ((h/2.0) * (x3_k2_prime2))\n&quot;,</div><div class='line' id='LC295'>&nbsp;&nbsp;&nbsp;&nbsp;&nbsp;&nbsp;&quot;\n&quot;,</div><div class='line' id='LC296'>&nbsp;&nbsp;&nbsp;&nbsp;&nbsp;&nbsp;&quot;\t\ty1_y1_2 = y1_y1_old + ((h/2.0) * (y1_k2_prime1))\n&quot;,</div><div class='line' id='LC297'>&nbsp;&nbsp;&nbsp;&nbsp;&nbsp;&nbsp;&quot;    \t\ty1_y2_2 = y1_y2_old + ((h/2.0) * (y1_k2_prime2))\n&quot;,</div><div class='line' id='LC298'>&nbsp;&nbsp;&nbsp;&nbsp;&nbsp;&nbsp;&quot;\n&quot;,</div><div class='line' id='LC299'>&nbsp;&nbsp;&nbsp;&nbsp;&nbsp;&nbsp;&quot;\t\ty2_y1_2 = y2_y1_old + ((h/2.0) * (y2_k2_prime1))\n&quot;,</div><div class='line' id='LC300'>&nbsp;&nbsp;&nbsp;&nbsp;&nbsp;&nbsp;&quot;    \t\ty2_y2_2 = y2_y2_old + ((h/2.0) * (y2_k2_prime2))\n&quot;,</div><div class='line' id='LC301'>&nbsp;&nbsp;&nbsp;&nbsp;&nbsp;&nbsp;&quot;\n&quot;,</div><div class='line' id='LC302'>&nbsp;&nbsp;&nbsp;&nbsp;&nbsp;&nbsp;&quot;\t\ty3_y1_2 = y3_y1_old + ((h/2.0) * (y3_k2_prime1))\n&quot;,</div><div class='line' id='LC303'>&nbsp;&nbsp;&nbsp;&nbsp;&nbsp;&nbsp;&quot;    \t\ty3_y2_2 = y3_y2_old + ((h/2.0) * (y3_k2_prime2))\n&quot;,</div><div class='line' id='LC304'>&nbsp;&nbsp;&nbsp;&nbsp;&nbsp;&nbsp;&quot;\n&quot;,</div><div class='line' id='LC305'>&nbsp;&nbsp;&nbsp;&nbsp;&nbsp;&nbsp;&quot;\t\tz1_y1_2 = z1_y1_old + ((h/2.0) * (z1_k2_prime1))\n&quot;,</div><div class='line' id='LC306'>&nbsp;&nbsp;&nbsp;&nbsp;&nbsp;&nbsp;&quot;    \t\tz1_y2_2 = z1_y2_old + ((h/2.0) * (z1_k2_prime2))\n&quot;,</div><div class='line' id='LC307'>&nbsp;&nbsp;&nbsp;&nbsp;&nbsp;&nbsp;&quot;\n&quot;,</div><div class='line' id='LC308'>&nbsp;&nbsp;&nbsp;&nbsp;&nbsp;&nbsp;&quot;\t\tz2_y1_2 = z2_y1_old + ((h/2.0) * (z2_k2_prime1))\n&quot;,</div><div class='line' id='LC309'>&nbsp;&nbsp;&nbsp;&nbsp;&nbsp;&nbsp;&quot;    \t\tz2_y2_2 = z2_y2_old + ((h/2.0) * (z2_k2_prime2))\n&quot;,</div><div class='line' id='LC310'>&nbsp;&nbsp;&nbsp;&nbsp;&nbsp;&nbsp;&quot;\n&quot;,</div><div class='line' id='LC311'>&nbsp;&nbsp;&nbsp;&nbsp;&nbsp;&nbsp;&quot;\t\tz3_y1_2 = z3_y1_old + ((h/2.0) * (z3_k2_prime1))\n&quot;,</div><div class='line' id='LC312'>&nbsp;&nbsp;&nbsp;&nbsp;&nbsp;&nbsp;&quot;    \t\tz3_y2_2 = z3_y2_old + ((h/2.0) * (z3_k2_prime2))\n&quot;,</div><div class='line' id='LC313'>&nbsp;&nbsp;&nbsp;&nbsp;&nbsp;&nbsp;&quot;\n&quot;,</div><div class='line' id='LC314'>&nbsp;&nbsp;&nbsp;&nbsp;&nbsp;&nbsp;&quot;\n&quot;,</div><div class='line' id='LC315'>&nbsp;&nbsp;&nbsp;&nbsp;&nbsp;&nbsp;&quot;\t\tx1_k3_prime1 = x1_function_prime_1(t2, x1_y1_2, x1_y2_2)\n&quot;,</div><div class='line' id='LC316'>&nbsp;&nbsp;&nbsp;&nbsp;&nbsp;&nbsp;&quot;   \t\tx1_k3_prime2 = x1_function_prime_2(t2, x1_y1_2, x1_y2_2)\n&quot;,</div><div class='line' id='LC317'>&nbsp;&nbsp;&nbsp;&nbsp;&nbsp;&nbsp;&quot;    \t\t\n&quot;,</div><div class='line' id='LC318'>&nbsp;&nbsp;&nbsp;&nbsp;&nbsp;&nbsp;&quot;\t\tx2_k3_prime1 = x2_function_prime_1(t2, x2_y1_2, x2_y2_2)\n&quot;,</div><div class='line' id='LC319'>&nbsp;&nbsp;&nbsp;&nbsp;&nbsp;&nbsp;&quot;   \t\tx2_k3_prime2 = x2_function_prime_2(t2, x2_y1_2, x2_y2_2)\n&quot;,</div><div class='line' id='LC320'>&nbsp;&nbsp;&nbsp;&nbsp;&nbsp;&nbsp;&quot;    \n&quot;,</div><div class='line' id='LC321'>&nbsp;&nbsp;&nbsp;&nbsp;&nbsp;&nbsp;&quot;\t\tx3_k3_prime1 = x3_function_prime_1(t2, x3_y1_2, x3_y2_2)\n&quot;,</div><div class='line' id='LC322'>&nbsp;&nbsp;&nbsp;&nbsp;&nbsp;&nbsp;&quot;   \t\tx3_k3_prime2 = x3_function_prime_2(t2, x3_y1_2, x3_y2_2)\n&quot;,</div><div class='line' id='LC323'>&nbsp;&nbsp;&nbsp;&nbsp;&nbsp;&nbsp;&quot;\n&quot;,</div><div class='line' id='LC324'>&nbsp;&nbsp;&nbsp;&nbsp;&nbsp;&nbsp;&quot;\t\ty1_k3_prime1 = y1_function_prime_1(t2, y1_y1_2, y1_y2_2)\n&quot;,</div><div class='line' id='LC325'>&nbsp;&nbsp;&nbsp;&nbsp;&nbsp;&nbsp;&quot;   \t\ty1_k3_prime2 = y1_function_prime_2(t2, y1_y1_2, y1_y2_2)\n&quot;,</div><div class='line' id='LC326'>&nbsp;&nbsp;&nbsp;&nbsp;&nbsp;&nbsp;&quot;    \t\t\n&quot;,</div><div class='line' id='LC327'>&nbsp;&nbsp;&nbsp;&nbsp;&nbsp;&nbsp;&quot;\t\ty2_k3_prime1 = y2_function_prime_1(t2, y2_y1_2, y2_y2_2)\n&quot;,</div><div class='line' id='LC328'>&nbsp;&nbsp;&nbsp;&nbsp;&nbsp;&nbsp;&quot;   \t\ty2_k3_prime2 = y2_function_prime_2(t2, y2_y1_2, y2_y2_2)\n&quot;,</div><div class='line' id='LC329'>&nbsp;&nbsp;&nbsp;&nbsp;&nbsp;&nbsp;&quot;    \n&quot;,</div><div class='line' id='LC330'>&nbsp;&nbsp;&nbsp;&nbsp;&nbsp;&nbsp;&quot;\t\ty3_k3_prime1 = y3_function_prime_1(t2, y3_y1_2, y3_y2_2)\n&quot;,</div><div class='line' id='LC331'>&nbsp;&nbsp;&nbsp;&nbsp;&nbsp;&nbsp;&quot;   \t\ty3_k3_prime2 = y3_function_prime_2(t2, y3_y1_2, y3_y2_2)\n&quot;,</div><div class='line' id='LC332'>&nbsp;&nbsp;&nbsp;&nbsp;&nbsp;&nbsp;&quot;\n&quot;,</div><div class='line' id='LC333'>&nbsp;&nbsp;&nbsp;&nbsp;&nbsp;&nbsp;&quot;\t\tz1_k3_prime1 = z1_function_prime_1(t2, z1_y1_2, z1_y2_2)\n&quot;,</div><div class='line' id='LC334'>&nbsp;&nbsp;&nbsp;&nbsp;&nbsp;&nbsp;&quot;   \t\tz1_k3_prime2 = z1_function_prime_2(t2, z1_y1_2, z1_y2_2)\n&quot;,</div><div class='line' id='LC335'>&nbsp;&nbsp;&nbsp;&nbsp;&nbsp;&nbsp;&quot;    \t\t\n&quot;,</div><div class='line' id='LC336'>&nbsp;&nbsp;&nbsp;&nbsp;&nbsp;&nbsp;&quot;\t\tz2_k3_prime1 = z2_function_prime_1(t2, z2_y1_2, z2_y2_2)\n&quot;,</div><div class='line' id='LC337'>&nbsp;&nbsp;&nbsp;&nbsp;&nbsp;&nbsp;&quot;   \t\tz2_k3_prime2 = z2_function_prime_2(t2, z2_y1_2, z2_y2_2)\n&quot;,</div><div class='line' id='LC338'>&nbsp;&nbsp;&nbsp;&nbsp;&nbsp;&nbsp;&quot;    \n&quot;,</div><div class='line' id='LC339'>&nbsp;&nbsp;&nbsp;&nbsp;&nbsp;&nbsp;&quot;\t\tz3_k3_prime1 = z3_function_prime_1(t2, z3_y1_2, z3_y2_2)\n&quot;,</div><div class='line' id='LC340'>&nbsp;&nbsp;&nbsp;&nbsp;&nbsp;&nbsp;&quot;   \t\tz3_k3_prime2 = z3_function_prime_2(t2, z3_y1_2, z3_y2_2)\n&quot;,</div><div class='line' id='LC341'>&nbsp;&nbsp;&nbsp;&nbsp;&nbsp;&nbsp;&quot;    \n&quot;,</div><div class='line' id='LC342'>&nbsp;&nbsp;&nbsp;&nbsp;&nbsp;&nbsp;&quot;   \t\t#Tercer paso\n&quot;,</div><div class='line' id='LC343'>&nbsp;&nbsp;&nbsp;&nbsp;&nbsp;&nbsp;&quot;\n&quot;,</div><div class='line' id='LC344'>&nbsp;&nbsp;&nbsp;&nbsp;&nbsp;&nbsp;&quot;    \t\tt3 = t_old + h\n&quot;,</div><div class='line' id='LC345'>&nbsp;&nbsp;&nbsp;&nbsp;&nbsp;&nbsp;&quot;\n&quot;,</div><div class='line' id='LC346'>&nbsp;&nbsp;&nbsp;&nbsp;&nbsp;&nbsp;&quot;    \t\tx1_y1_3 = x1_y1_old + (h * (x1_k3_prime1))\n&quot;,</div><div class='line' id='LC347'>&nbsp;&nbsp;&nbsp;&nbsp;&nbsp;&nbsp;&quot;   \t\tx1_y2_3 = x1_y2_old + (h * (x1_k3_prime2))\n&quot;,</div><div class='line' id='LC348'>&nbsp;&nbsp;&nbsp;&nbsp;&nbsp;&nbsp;&quot;\n&quot;,</div><div class='line' id='LC349'>&nbsp;&nbsp;&nbsp;&nbsp;&nbsp;&nbsp;&quot;\t\tx2_y1_3 = x2_y1_old + (h * (x2_k3_prime1))\n&quot;,</div><div class='line' id='LC350'>&nbsp;&nbsp;&nbsp;&nbsp;&nbsp;&nbsp;&quot;   \t\tx2_y2_3 = x2_y2_old + (h * (x2_k3_prime2))\n&quot;,</div><div class='line' id='LC351'>&nbsp;&nbsp;&nbsp;&nbsp;&nbsp;&nbsp;&quot;\n&quot;,</div><div class='line' id='LC352'>&nbsp;&nbsp;&nbsp;&nbsp;&nbsp;&nbsp;&quot;\t\tx3_y1_3 = x3_y1_old + (h * (x3_k3_prime1))\n&quot;,</div><div class='line' id='LC353'>&nbsp;&nbsp;&nbsp;&nbsp;&nbsp;&nbsp;&quot;   \t\tx3_y2_3 = x3_y2_old + (h * (x3_k3_prime2))\n&quot;,</div><div class='line' id='LC354'>&nbsp;&nbsp;&nbsp;&nbsp;&nbsp;&nbsp;&quot;\n&quot;,</div><div class='line' id='LC355'>&nbsp;&nbsp;&nbsp;&nbsp;&nbsp;&nbsp;&quot;\t\ty1_y1_3 = y1_y1_old + (h * (y1_k3_prime1))\n&quot;,</div><div class='line' id='LC356'>&nbsp;&nbsp;&nbsp;&nbsp;&nbsp;&nbsp;&quot;   \t\ty1_y2_3 = y1_y2_old + (h * (y1_k3_prime2))\n&quot;,</div><div class='line' id='LC357'>&nbsp;&nbsp;&nbsp;&nbsp;&nbsp;&nbsp;&quot;\n&quot;,</div><div class='line' id='LC358'>&nbsp;&nbsp;&nbsp;&nbsp;&nbsp;&nbsp;&quot;\t\ty2_y1_3 = y2_y1_old + (h * (y2_k3_prime1))\n&quot;,</div><div class='line' id='LC359'>&nbsp;&nbsp;&nbsp;&nbsp;&nbsp;&nbsp;&quot;   \t\ty2_y2_3 = y2_y2_old + (h * (y2_k3_prime2))\n&quot;,</div><div class='line' id='LC360'>&nbsp;&nbsp;&nbsp;&nbsp;&nbsp;&nbsp;&quot;\n&quot;,</div><div class='line' id='LC361'>&nbsp;&nbsp;&nbsp;&nbsp;&nbsp;&nbsp;&quot;\t\ty3_y1_3 = y3_y1_old + (h * (y3_k3_prime1))\n&quot;,</div><div class='line' id='LC362'>&nbsp;&nbsp;&nbsp;&nbsp;&nbsp;&nbsp;&quot;   \t\ty3_y2_3 = y3_y2_old + (h * (y3_k3_prime2))\n&quot;,</div><div class='line' id='LC363'>&nbsp;&nbsp;&nbsp;&nbsp;&nbsp;&nbsp;&quot;\n&quot;,</div><div class='line' id='LC364'>&nbsp;&nbsp;&nbsp;&nbsp;&nbsp;&nbsp;&quot;\t\tz1_y1_3 = z1_y1_old + (h * (z1_k3_prime1))\n&quot;,</div><div class='line' id='LC365'>&nbsp;&nbsp;&nbsp;&nbsp;&nbsp;&nbsp;&quot;   \t\tz1_y2_3 = z1_y2_old + (h * (z1_k3_prime2))\n&quot;,</div><div class='line' id='LC366'>&nbsp;&nbsp;&nbsp;&nbsp;&nbsp;&nbsp;&quot;\n&quot;,</div><div class='line' id='LC367'>&nbsp;&nbsp;&nbsp;&nbsp;&nbsp;&nbsp;&quot;\t\tz2_y1_3 = z2_y1_old + (h * (z2_k3_prime1))\n&quot;,</div><div class='line' id='LC368'>&nbsp;&nbsp;&nbsp;&nbsp;&nbsp;&nbsp;&quot;   \t\tz2_y2_3 = z2_y2_old + (h * (z2_k3_prime2))\n&quot;,</div><div class='line' id='LC369'>&nbsp;&nbsp;&nbsp;&nbsp;&nbsp;&nbsp;&quot;\n&quot;,</div><div class='line' id='LC370'>&nbsp;&nbsp;&nbsp;&nbsp;&nbsp;&nbsp;&quot;\t\tz3_y1_3 = z3_y1_old + (h * (z3_k3_prime1))\n&quot;,</div><div class='line' id='LC371'>&nbsp;&nbsp;&nbsp;&nbsp;&nbsp;&nbsp;&quot;   \t\tz3_y2_3 = z3_y2_old + (h * (z3_k3_prime2))\n&quot;,</div><div class='line' id='LC372'>&nbsp;&nbsp;&nbsp;&nbsp;&nbsp;&nbsp;&quot;\n&quot;,</div><div class='line' id='LC373'>&nbsp;&nbsp;&nbsp;&nbsp;&nbsp;&nbsp;&quot;\n&quot;,</div><div class='line' id='LC374'>&nbsp;&nbsp;&nbsp;&nbsp;&nbsp;&nbsp;&quot;    \t\tx1_k4_prime1 = x1_function_prime_1(t3, x1_y1_3, x1_y2_3)\n&quot;,</div><div class='line' id='LC375'>&nbsp;&nbsp;&nbsp;&nbsp;&nbsp;&nbsp;&quot;    \t\tx1_k4_prime2 = x1_function_prime_2(t3, x1_y1_3, x1_y2_3)\n&quot;,</div><div class='line' id='LC376'>&nbsp;&nbsp;&nbsp;&nbsp;&nbsp;&nbsp;&quot;\n&quot;,</div><div class='line' id='LC377'>&nbsp;&nbsp;&nbsp;&nbsp;&nbsp;&nbsp;&quot;\t\tx2_k4_prime1 = x2_function_prime_1(t3, x2_y1_3, x2_y2_3)\n&quot;,</div><div class='line' id='LC378'>&nbsp;&nbsp;&nbsp;&nbsp;&nbsp;&nbsp;&quot;    \t\tx2_k4_prime2 = x2_function_prime_2(t3, x2_y1_3, x2_y2_3)\n&quot;,</div><div class='line' id='LC379'>&nbsp;&nbsp;&nbsp;&nbsp;&nbsp;&nbsp;&quot;\n&quot;,</div><div class='line' id='LC380'>&nbsp;&nbsp;&nbsp;&nbsp;&nbsp;&nbsp;&quot;\t\tx3_k4_prime1 = x3_function_prime_1(t3, x3_y1_3, x3_y2_3)\n&quot;,</div><div class='line' id='LC381'>&nbsp;&nbsp;&nbsp;&nbsp;&nbsp;&nbsp;&quot;    \t\tx3_k4_prime2 = x3_function_prime_2(t3, x3_y1_3, x3_y2_3)\n&quot;,</div><div class='line' id='LC382'>&nbsp;&nbsp;&nbsp;&nbsp;&nbsp;&nbsp;&quot;\n&quot;,</div><div class='line' id='LC383'>&nbsp;&nbsp;&nbsp;&nbsp;&nbsp;&nbsp;&quot;\t\ty1_k4_prime1 = y1_function_prime_1(t3, y1_y1_3, y1_y2_3)\n&quot;,</div><div class='line' id='LC384'>&nbsp;&nbsp;&nbsp;&nbsp;&nbsp;&nbsp;&quot;    \t\ty1_k4_prime2 = y1_function_prime_2(t3, y1_y1_3, y1_y2_3)\n&quot;,</div><div class='line' id='LC385'>&nbsp;&nbsp;&nbsp;&nbsp;&nbsp;&nbsp;&quot;\n&quot;,</div><div class='line' id='LC386'>&nbsp;&nbsp;&nbsp;&nbsp;&nbsp;&nbsp;&quot;\t\ty2_k4_prime1 = y2_function_prime_1(t3, y2_y1_3, y2_y2_3)\n&quot;,</div><div class='line' id='LC387'>&nbsp;&nbsp;&nbsp;&nbsp;&nbsp;&nbsp;&quot;    \t\ty2_k4_prime2 = y2_function_prime_2(t3, y2_y1_3, y2_y2_3)\n&quot;,</div><div class='line' id='LC388'>&nbsp;&nbsp;&nbsp;&nbsp;&nbsp;&nbsp;&quot;\n&quot;,</div><div class='line' id='LC389'>&nbsp;&nbsp;&nbsp;&nbsp;&nbsp;&nbsp;&quot;\t\ty3_k4_prime1 = y3_function_prime_1(t3, y3_y1_3, y3_y2_3)\n&quot;,</div><div class='line' id='LC390'>&nbsp;&nbsp;&nbsp;&nbsp;&nbsp;&nbsp;&quot;    \t\ty3_k4_prime2 = y3_function_prime_2(t3, y3_y1_3, y3_y2_3)\n&quot;,</div><div class='line' id='LC391'>&nbsp;&nbsp;&nbsp;&nbsp;&nbsp;&nbsp;&quot;\n&quot;,</div><div class='line' id='LC392'>&nbsp;&nbsp;&nbsp;&nbsp;&nbsp;&nbsp;&quot;\t\tz1_k4_prime1 = z1_function_prime_1(t3, z1_y1_3, z1_y2_3)\n&quot;,</div><div class='line' id='LC393'>&nbsp;&nbsp;&nbsp;&nbsp;&nbsp;&nbsp;&quot;    \t\tz1_k4_prime2 = z1_function_prime_2(t3, z1_y1_3, z1_y2_3)\n&quot;,</div><div class='line' id='LC394'>&nbsp;&nbsp;&nbsp;&nbsp;&nbsp;&nbsp;&quot;\n&quot;,</div><div class='line' id='LC395'>&nbsp;&nbsp;&nbsp;&nbsp;&nbsp;&nbsp;&quot;\t\tz2_k4_prime1 = z2_function_prime_1(t3, z2_y1_3, z2_y2_3)\n&quot;,</div><div class='line' id='LC396'>&nbsp;&nbsp;&nbsp;&nbsp;&nbsp;&nbsp;&quot;    \t\tz2_k4_prime2 = z2_function_prime_2(t3, z2_y1_3, z2_y2_3)\n&quot;,</div><div class='line' id='LC397'>&nbsp;&nbsp;&nbsp;&nbsp;&nbsp;&nbsp;&quot;\n&quot;,</div><div class='line' id='LC398'>&nbsp;&nbsp;&nbsp;&nbsp;&nbsp;&nbsp;&quot;\t\tz3_k4_prime1 = z3_function_prime_1(t3, z3_y1_3, z3_y2_3)\n&quot;,</div><div class='line' id='LC399'>&nbsp;&nbsp;&nbsp;&nbsp;&nbsp;&nbsp;&quot;    \t\tz3_k4_prime2 = z3_function_prime_2(t3, z3_y1_3, z3_y2_3)\n&quot;,</div><div class='line' id='LC400'>&nbsp;&nbsp;&nbsp;&nbsp;&nbsp;&nbsp;&quot;    \n&quot;,</div><div class='line' id='LC401'>&nbsp;&nbsp;&nbsp;&nbsp;&nbsp;&nbsp;&quot;    \t\t#Cuarto paso\n&quot;,</div><div class='line' id='LC402'>&nbsp;&nbsp;&nbsp;&nbsp;&nbsp;&nbsp;&quot;\n&quot;,</div><div class='line' id='LC403'>&nbsp;&nbsp;&nbsp;&nbsp;&nbsp;&nbsp;&quot;   \t\tx1_average_k1 = (1.0/6.0)*(x1_k1_prime1 + 2.0*x1_k2_prime1 + 2.0*x1_k3_prime1 + x1_k4_prime1)\n&quot;,</div><div class='line' id='LC404'>&nbsp;&nbsp;&nbsp;&nbsp;&nbsp;&nbsp;&quot;   \t \tx1_average_k2 = (1.0/6.0)*(x1_k1_prime2 + 2.0*x1_k2_prime2 + 2.0*x1_k3_prime2 + x1_k4_prime2)\n&quot;,</div><div class='line' id='LC405'>&nbsp;&nbsp;&nbsp;&nbsp;&nbsp;&nbsp;&quot;\n&quot;,</div><div class='line' id='LC406'>&nbsp;&nbsp;&nbsp;&nbsp;&nbsp;&nbsp;&quot;\t\tx2_average_k1 = (1.0/6.0)*(x2_k1_prime1 + 2.0*x2_k2_prime1 + 2.0*x2_k3_prime1 + x2_k4_prime1)\n&quot;,</div><div class='line' id='LC407'>&nbsp;&nbsp;&nbsp;&nbsp;&nbsp;&nbsp;&quot;   \t \tx2_average_k2 = (1.0/6.0)*(x2_k1_prime2 + 2.0*x2_k2_prime2 + 2.0*x2_k3_prime2 + x2_k4_prime2)\n&quot;,</div><div class='line' id='LC408'>&nbsp;&nbsp;&nbsp;&nbsp;&nbsp;&nbsp;&quot;\n&quot;,</div><div class='line' id='LC409'>&nbsp;&nbsp;&nbsp;&nbsp;&nbsp;&nbsp;&quot;\t\tx3_average_k1 = (1.0/6.0)*(x3_k1_prime1 + 2.0*x3_k2_prime1 + 2.0*x3_k3_prime1 + x3_k4_prime1)\n&quot;,</div><div class='line' id='LC410'>&nbsp;&nbsp;&nbsp;&nbsp;&nbsp;&nbsp;&quot;   \t \tx3_average_k2 = (1.0/6.0)*(x3_k1_prime2 + 2.0*x3_k2_prime2 + 2.0*x3_k3_prime2 + x3_k4_prime2)\n&quot;,</div><div class='line' id='LC411'>&nbsp;&nbsp;&nbsp;&nbsp;&nbsp;&nbsp;&quot;\n&quot;,</div><div class='line' id='LC412'>&nbsp;&nbsp;&nbsp;&nbsp;&nbsp;&nbsp;&quot;\t\ty1_average_k1 = (1.0/6.0)*(y1_k1_prime1 + 2.0*y1_k2_prime1 + 2.0*y1_k3_prime1 + y1_k4_prime1)\n&quot;,</div><div class='line' id='LC413'>&nbsp;&nbsp;&nbsp;&nbsp;&nbsp;&nbsp;&quot;   \t \ty1_average_k2 = (1.0/6.0)*(y1_k1_prime2 + 2.0*y1_k2_prime2 + 2.0*y1_k3_prime2 + y1_k4_prime2)\n&quot;,</div><div class='line' id='LC414'>&nbsp;&nbsp;&nbsp;&nbsp;&nbsp;&nbsp;&quot;\n&quot;,</div><div class='line' id='LC415'>&nbsp;&nbsp;&nbsp;&nbsp;&nbsp;&nbsp;&quot;\t\ty2_average_k1 = (1.0/6.0)*(y2_k1_prime1 + 2.0*y2_k2_prime1 + 2.0*y2_k3_prime1 + y2_k4_prime1)\n&quot;,</div><div class='line' id='LC416'>&nbsp;&nbsp;&nbsp;&nbsp;&nbsp;&nbsp;&quot;   \t \ty2_average_k2 = (1.0/6.0)*(y2_k1_prime2 + 2.0*y2_k2_prime2 + 2.0*y2_k3_prime2 + y2_k4_prime2)\n&quot;,</div><div class='line' id='LC417'>&nbsp;&nbsp;&nbsp;&nbsp;&nbsp;&nbsp;&quot;\n&quot;,</div><div class='line' id='LC418'>&nbsp;&nbsp;&nbsp;&nbsp;&nbsp;&nbsp;&quot;\t\ty3_average_k1 = (1.0/6.0)*(y3_k1_prime1 + 2.0*y3_k2_prime1 + 2.0*y3_k3_prime1 + y3_k4_prime1)\n&quot;,</div><div class='line' id='LC419'>&nbsp;&nbsp;&nbsp;&nbsp;&nbsp;&nbsp;&quot;   \t \ty3_average_k2 = (1.0/6.0)*(y3_k1_prime2 + 2.0*y3_k2_prime2 + 2.0*y3_k3_prime2 + y3_k4_prime2)\n&quot;,</div><div class='line' id='LC420'>&nbsp;&nbsp;&nbsp;&nbsp;&nbsp;&nbsp;&quot;\n&quot;,</div><div class='line' id='LC421'>&nbsp;&nbsp;&nbsp;&nbsp;&nbsp;&nbsp;&quot;\t\tz1_average_k1 = (1.0/6.0)*(z1_k1_prime1 + 2.0*z1_k2_prime1 + 2.0*z1_k3_prime1 + z1_k4_prime1)\n&quot;,</div><div class='line' id='LC422'>&nbsp;&nbsp;&nbsp;&nbsp;&nbsp;&nbsp;&quot;   \t \tz1_average_k2 = (1.0/6.0)*(z1_k1_prime2 + 2.0*z1_k2_prime2 + 2.0*z1_k3_prime2 + z1_k4_prime2)\n&quot;,</div><div class='line' id='LC423'>&nbsp;&nbsp;&nbsp;&nbsp;&nbsp;&nbsp;&quot;\n&quot;,</div><div class='line' id='LC424'>&nbsp;&nbsp;&nbsp;&nbsp;&nbsp;&nbsp;&quot;\t\tz2_average_k1 = (1.0/6.0)*(z2_k1_prime1 + 2.0*z2_k2_prime1 + 2.0*z2_k3_prime1 + z2_k4_prime1)\n&quot;,</div><div class='line' id='LC425'>&nbsp;&nbsp;&nbsp;&nbsp;&nbsp;&nbsp;&quot;   \t \tz2_average_k2 = (1.0/6.0)*(z2_k1_prime2 + 2.0*z2_k2_prime2 + 2.0*z2_k3_prime2 + z2_k4_prime2)\n&quot;,</div><div class='line' id='LC426'>&nbsp;&nbsp;&nbsp;&nbsp;&nbsp;&nbsp;&quot;\n&quot;,</div><div class='line' id='LC427'>&nbsp;&nbsp;&nbsp;&nbsp;&nbsp;&nbsp;&quot;\t\tz3_average_k1 = (1.0/6.0)*(z3_k1_prime1 + 2.0*z3_k2_prime1 + 2.0*z3_k3_prime1 + z3_k4_prime1)\n&quot;,</div><div class='line' id='LC428'>&nbsp;&nbsp;&nbsp;&nbsp;&nbsp;&nbsp;&quot;   \t \tz3_average_k2 = (1.0/6.0)*(z3_k1_prime2 + 2.0*z3_k2_prime2 + 2.0*z3_k3_prime2 + z3_k4_prime2)\n&quot;,</div><div class='line' id='LC429'>&nbsp;&nbsp;&nbsp;&nbsp;&nbsp;&nbsp;&quot;\t\n&quot;,</div><div class='line' id='LC430'>&nbsp;&nbsp;&nbsp;&nbsp;&nbsp;&nbsp;&quot;\t\t#Resultados:\n&quot;,</div><div class='line' id='LC431'>&nbsp;&nbsp;&nbsp;&nbsp;&nbsp;&nbsp;&quot;    \n&quot;,</div><div class='line' id='LC432'>&nbsp;&nbsp;&nbsp;&nbsp;&nbsp;&nbsp;&quot;    \t\tt_new = t_old + h\n&quot;,</div><div class='line' id='LC433'>&nbsp;&nbsp;&nbsp;&nbsp;&nbsp;&nbsp;&quot;\n&quot;,</div><div class='line' id='LC434'>&nbsp;&nbsp;&nbsp;&nbsp;&nbsp;&nbsp;&quot;   \t\tx1_y1_new = x1_y1_old + (h * x1_average_k1)\n&quot;,</div><div class='line' id='LC435'>&nbsp;&nbsp;&nbsp;&nbsp;&nbsp;&nbsp;&quot;   \t\tx1_y2_new = x1_y2_old + (h * x1_average_k2)\n&quot;,</div><div class='line' id='LC436'>&nbsp;&nbsp;&nbsp;&nbsp;&nbsp;&nbsp;&quot;\n&quot;,</div><div class='line' id='LC437'>&nbsp;&nbsp;&nbsp;&nbsp;&nbsp;&nbsp;&quot;\t\tx2_y1_new = x2_y1_old + (h * x2_average_k1)\n&quot;,</div><div class='line' id='LC438'>&nbsp;&nbsp;&nbsp;&nbsp;&nbsp;&nbsp;&quot;   \t\tx2_y2_new = x2_y2_old + (h * x2_average_k2)\n&quot;,</div><div class='line' id='LC439'>&nbsp;&nbsp;&nbsp;&nbsp;&nbsp;&nbsp;&quot;\n&quot;,</div><div class='line' id='LC440'>&nbsp;&nbsp;&nbsp;&nbsp;&nbsp;&nbsp;&quot;\t\tx3_y1_new = x3_y1_old + (h * x3_average_k1)\n&quot;,</div><div class='line' id='LC441'>&nbsp;&nbsp;&nbsp;&nbsp;&nbsp;&nbsp;&quot;   \t\tx3_y2_new = x3_y2_old + (h * x3_average_k2)\n&quot;,</div><div class='line' id='LC442'>&nbsp;&nbsp;&nbsp;&nbsp;&nbsp;&nbsp;&quot;\n&quot;,</div><div class='line' id='LC443'>&nbsp;&nbsp;&nbsp;&nbsp;&nbsp;&nbsp;&quot;\t\ty1_y1_new = y1_y1_old + (h * y1_average_k1)\n&quot;,</div><div class='line' id='LC444'>&nbsp;&nbsp;&nbsp;&nbsp;&nbsp;&nbsp;&quot;   \t\ty1_y2_new = y1_y2_old + (h * y1_average_k2)\n&quot;,</div><div class='line' id='LC445'>&nbsp;&nbsp;&nbsp;&nbsp;&nbsp;&nbsp;&quot;\n&quot;,</div><div class='line' id='LC446'>&nbsp;&nbsp;&nbsp;&nbsp;&nbsp;&nbsp;&quot;\t\ty2_y1_new = y2_y1_old + (h * y2_average_k1)\n&quot;,</div><div class='line' id='LC447'>&nbsp;&nbsp;&nbsp;&nbsp;&nbsp;&nbsp;&quot;   \t\ty2_y2_new = y2_y2_old + (h * y2_average_k2)\n&quot;,</div><div class='line' id='LC448'>&nbsp;&nbsp;&nbsp;&nbsp;&nbsp;&nbsp;&quot;\n&quot;,</div><div class='line' id='LC449'>&nbsp;&nbsp;&nbsp;&nbsp;&nbsp;&nbsp;&quot;\t\ty3_y1_new = y3_y1_old + (h * y3_average_k1)\n&quot;,</div><div class='line' id='LC450'>&nbsp;&nbsp;&nbsp;&nbsp;&nbsp;&nbsp;&quot;   \t\ty3_y2_new = y3_y2_old + (h * y3_average_k2)\n&quot;,</div><div class='line' id='LC451'>&nbsp;&nbsp;&nbsp;&nbsp;&nbsp;&nbsp;&quot;\n&quot;,</div><div class='line' id='LC452'>&nbsp;&nbsp;&nbsp;&nbsp;&nbsp;&nbsp;&quot;\t\tz1_y1_new = z1_y1_old + (h * z1_average_k1)\n&quot;,</div><div class='line' id='LC453'>&nbsp;&nbsp;&nbsp;&nbsp;&nbsp;&nbsp;&quot;   \t\tz1_y2_new = z1_y2_old + (h * z1_average_k2)\n&quot;,</div><div class='line' id='LC454'>&nbsp;&nbsp;&nbsp;&nbsp;&nbsp;&nbsp;&quot;\n&quot;,</div><div class='line' id='LC455'>&nbsp;&nbsp;&nbsp;&nbsp;&nbsp;&nbsp;&quot;\t\tz2_y1_new = z2_y1_old + (h * z2_average_k1)\n&quot;,</div><div class='line' id='LC456'>&nbsp;&nbsp;&nbsp;&nbsp;&nbsp;&nbsp;&quot;   \t\tz2_y2_new = z2_y2_old + (h * z2_average_k2)\n&quot;,</div><div class='line' id='LC457'>&nbsp;&nbsp;&nbsp;&nbsp;&nbsp;&nbsp;&quot;\n&quot;,</div><div class='line' id='LC458'>&nbsp;&nbsp;&nbsp;&nbsp;&nbsp;&nbsp;&quot;\t\tz3_y1_new = z3_y1_old + (h * z3_average_k1)\n&quot;,</div><div class='line' id='LC459'>&nbsp;&nbsp;&nbsp;&nbsp;&nbsp;&nbsp;&quot;   \t\tz3_y2_new = z3_y2_old + (h * z3_average_k2)\n&quot;,</div><div class='line' id='LC460'>&nbsp;&nbsp;&nbsp;&nbsp;&nbsp;&nbsp;&quot;\n&quot;,</div><div class='line' id='LC461'>&nbsp;&nbsp;&nbsp;&nbsp;&nbsp;&nbsp;&quot;\t\t#Lo que retorna el m\u00e9todo de Runge-Kutta\n&quot;,</div><div class='line' id='LC462'>&nbsp;&nbsp;&nbsp;&nbsp;&nbsp;&nbsp;&quot;\n&quot;,</div><div class='line' id='LC463'>&nbsp;&nbsp;&nbsp;&nbsp;&nbsp;&nbsp;&quot;    \t\treturn t_new, x1_y1_new, x1_y2_new, x2_y1_new, x2_y2_new, x3_y1_new, x3_y2_new, y1_y1_new, y1_y2_new, y2_y1_new, y2_y2_new, y3_y1_new, y3_y2_new, z1_y1_new, z1_y2_new, z2_y1_new, z2_y2_new, z3_y1_new, z3_y2_new\n&quot;,</div><div class='line' id='LC464'>&nbsp;&nbsp;&nbsp;&nbsp;&nbsp;&nbsp;&quot;\t \n&quot;,</div><div class='line' id='LC465'>&nbsp;&nbsp;&nbsp;&nbsp;&nbsp;&nbsp;&quot;\t#Con cada iteraci\u00f3n vamos redefiniendo el tiempo y las posiciones y las velocidades para ir modificando las condiciones iniciales de cada proceso\n&quot;,</div><div class='line' id='LC466'>&nbsp;&nbsp;&nbsp;&nbsp;&nbsp;&nbsp;&quot;\n&quot;,</div><div class='line' id='LC467'>&nbsp;&nbsp;&nbsp;&nbsp;&nbsp;&nbsp;&quot;    \tt[j],x1_y1[j],x1_y2[j],x2_y1[j],x2_y2[j],x3_y1[j],x3_y2[j],y1_y1[j],y1_y2[j],y2_y1[j],y2_y2[j],y3_y1[j],y3_y2[j],z1_y1[j],z1_y2[j],z2_y1[j],z2_y2[j],z3_y1[j],z3_y2[j] = RungeKuttaFourthOrderStep(t[j-1],x1_y1[j-1],x1_y2[j-1],x2_y1[j-1],x2_y2[j-1],x3_y1[j-1],x3_y2[j-1],y1_y1[j-1],y1_y2[j-1],y2_y1[j-1],y2_y2[j-1],y3_y1[j-1],y3_y2[j-1],z1_y1[j-1],z1_y2[j-1],z2_y1[j-1],z2_y2[j-1],z3_y1[j-1],z3_y2[j-1])\n&quot;,</div><div class='line' id='LC468'>&nbsp;&nbsp;&nbsp;&nbsp;&nbsp;&nbsp;&quot;\n&quot;,</div><div class='line' id='LC469'>&nbsp;&nbsp;&nbsp;&nbsp;&nbsp;&nbsp;&quot;from mpl_toolkits.mplot3d import Axes3D\n&quot;,</div><div class='line' id='LC470'>&nbsp;&nbsp;&nbsp;&nbsp;&nbsp;&nbsp;&quot;fig = plt.figure()\n&quot;,</div><div class='line' id='LC471'>&nbsp;&nbsp;&nbsp;&nbsp;&nbsp;&nbsp;&quot;ax = plt.axes(projection=&#39;3d&#39;)\n&quot;,</div><div class='line' id='LC472'>&nbsp;&nbsp;&nbsp;&nbsp;&nbsp;&nbsp;&quot;\n&quot;,</div><div class='line' id='LC473'>&nbsp;&nbsp;&nbsp;&nbsp;&nbsp;&nbsp;&quot;ax.plot(x1_y1,y1_y1,z1_y1,c=&#39;r&#39;)\n&quot;,</div><div class='line' id='LC474'>&nbsp;&nbsp;&nbsp;&nbsp;&nbsp;&nbsp;&quot;ax.plot(x2_y1,y2_y1,z2_y1,c=&#39;g&#39;)\n&quot;,</div><div class='line' id='LC475'>&nbsp;&nbsp;&nbsp;&nbsp;&nbsp;&nbsp;&quot;ax.plot(x3_y1,y3_y1,z3_y1,c=&#39;b&#39;)&quot;</div><div class='line' id='LC476'>&nbsp;&nbsp;&nbsp;&nbsp;&nbsp;],</div><div class='line' id='LC477'>&nbsp;&nbsp;&nbsp;&nbsp;&nbsp;&quot;language&quot;: &quot;python&quot;,</div><div class='line' id='LC478'>&nbsp;&nbsp;&nbsp;&nbsp;&nbsp;&quot;metadata&quot;: {},</div><div class='line' id='LC479'>&nbsp;&nbsp;&nbsp;&nbsp;&nbsp;&quot;outputs&quot;: [</div><div class='line' id='LC480'>&nbsp;&nbsp;&nbsp;&nbsp;&nbsp;&nbsp;{</div><div class='line' id='LC481'>&nbsp;&nbsp;&nbsp;&nbsp;&nbsp;&nbsp;&nbsp;&quot;output_type&quot;: &quot;stream&quot;,</div><div class='line' id='LC482'>&nbsp;&nbsp;&nbsp;&nbsp;&nbsp;&nbsp;&nbsp;&quot;stream&quot;: &quot;stdout&quot;,</div><div class='line' id='LC483'>&nbsp;&nbsp;&nbsp;&nbsp;&nbsp;&nbsp;&nbsp;&quot;text&quot;: [</div><div class='line' id='LC484'>&nbsp;&nbsp;&nbsp;&nbsp;&nbsp;&nbsp;&nbsp;&nbsp;&quot;\n&quot;,</div><div class='line' id='LC485'>&nbsp;&nbsp;&nbsp;&nbsp;&nbsp;&nbsp;&nbsp;&nbsp;&quot;Welcome to pylab, a matplotlib-based Python environment [backend: module://IPython.kernel.zmq.pylab.backend_inline].\n&quot;,</div><div class='line' id='LC486'>&nbsp;&nbsp;&nbsp;&nbsp;&nbsp;&nbsp;&nbsp;&nbsp;&quot;For more information, type &#39;help(pylab)&#39;.\n&quot;</div><div class='line' id='LC487'>&nbsp;&nbsp;&nbsp;&nbsp;&nbsp;&nbsp;&nbsp;]</div><div class='line' id='LC488'>&nbsp;&nbsp;&nbsp;&nbsp;&nbsp;&nbsp;},</div><div class='line' id='LC489'>&nbsp;&nbsp;&nbsp;&nbsp;&nbsp;&nbsp;{</div><div class='line' id='LC490'>&nbsp;&nbsp;&nbsp;&nbsp;&nbsp;&nbsp;&nbsp;&quot;output_type&quot;: &quot;pyout&quot;,</div><div class='line' id='LC491'>&nbsp;&nbsp;&nbsp;&nbsp;&nbsp;&nbsp;&nbsp;&quot;prompt_number&quot;: 91,</div><div class='line' id='LC492'>&nbsp;&nbsp;&nbsp;&nbsp;&nbsp;&nbsp;&nbsp;&quot;text&quot;: [</div><div class='line' id='LC493'>&nbsp;&nbsp;&nbsp;&nbsp;&nbsp;&nbsp;&nbsp;&nbsp;&quot;[&lt;mpl_toolkits.mplot3d.art3d.Line3D at 0x275f7650&gt;]&quot;</div><div class='line' id='LC494'>&nbsp;&nbsp;&nbsp;&nbsp;&nbsp;&nbsp;&nbsp;]</div><div class='line' id='LC495'>&nbsp;&nbsp;&nbsp;&nbsp;&nbsp;&nbsp;},</div><div class='line' id='LC496'>&nbsp;&nbsp;&nbsp;&nbsp;&nbsp;&nbsp;{</div><div class='line' id='LC497'>&nbsp;&nbsp;&nbsp;&nbsp;&nbsp;&nbsp;&nbsp;&quot;output_type&quot;: &quot;display_data&quot;,</div><div class='line' id='LC498'>&nbsp;&nbsp;&nbsp;&nbsp;&nbsp;&nbsp;&nbsp;&quot;png&quot;: &quot;iVBORw0KGgoAAAANSUhEUgAAAV0AAADtCAYAAAAcNaZ2AAAABHNCSVQICAgIfAhkiAAAAAlwSFlz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\n4qIPJ7pGUAPcjMUAAAAASUVORK5CYII=\n&quot;,</div><div class='line' id='LC499'>&nbsp;&nbsp;&nbsp;&nbsp;&nbsp;&nbsp;&nbsp;&quot;text&quot;: [</div><div class='line' id='LC500'>&nbsp;&nbsp;&nbsp;&nbsp;&nbsp;&nbsp;&nbsp;&nbsp;&quot;&lt;matplotlib.figure.Figure at 0x26d42110&gt;&quot;</div><div class='line' id='LC501'>&nbsp;&nbsp;&nbsp;&nbsp;&nbsp;&nbsp;&nbsp;]</div><div class='line' id='LC502'>&nbsp;&nbsp;&nbsp;&nbsp;&nbsp;&nbsp;}</div><div class='line' id='LC503'>&nbsp;&nbsp;&nbsp;&nbsp;&nbsp;],</div><div class='line' id='LC504'>&nbsp;&nbsp;&nbsp;&nbsp;&nbsp;&quot;prompt_number&quot;: 91</div><div class='line' id='LC505'>&nbsp;&nbsp;&nbsp;&nbsp;},</div><div class='line' id='LC506'>&nbsp;&nbsp;&nbsp;&nbsp;{</div><div class='line' id='LC507'>&nbsp;&nbsp;&nbsp;&nbsp;&nbsp;&quot;cell_type&quot;: &quot;code&quot;,</div><div class='line' id='LC508'>&nbsp;&nbsp;&nbsp;&nbsp;&nbsp;&quot;collapsed&quot;: false,</div><div class='line' id='LC509'>&nbsp;&nbsp;&nbsp;&nbsp;&nbsp;&quot;input&quot;: [</div><div class='line' id='LC510'>&nbsp;&nbsp;&nbsp;&nbsp;&nbsp;&nbsp;&quot;plot(x1_y1,z1_y1,c=&#39;r&#39;)\n&quot;,</div><div class='line' id='LC511'>&nbsp;&nbsp;&nbsp;&nbsp;&nbsp;&nbsp;&quot;plot(x2_y1,z2_y1,c=&#39;g&#39;)\n&quot;,</div><div class='line' id='LC512'>&nbsp;&nbsp;&nbsp;&nbsp;&nbsp;&nbsp;&quot;plot(x3_y1,z3_y1,c=&#39;b&#39;)&quot;</div><div class='line' id='LC513'>&nbsp;&nbsp;&nbsp;&nbsp;&nbsp;],</div><div class='line' id='LC514'>&nbsp;&nbsp;&nbsp;&nbsp;&nbsp;&quot;language&quot;: &quot;python&quot;,</div><div class='line' id='LC515'>&nbsp;&nbsp;&nbsp;&nbsp;&nbsp;&quot;metadata&quot;: {},</div><div class='line' id='LC516'>&nbsp;&nbsp;&nbsp;&nbsp;&nbsp;&quot;outputs&quot;: [</div><div class='line' id='LC517'>&nbsp;&nbsp;&nbsp;&nbsp;&nbsp;&nbsp;{</div><div class='line' id='LC518'>&nbsp;&nbsp;&nbsp;&nbsp;&nbsp;&nbsp;&nbsp;&quot;output_type&quot;: &quot;pyout&quot;,</div><div class='line' id='LC519'>&nbsp;&nbsp;&nbsp;&nbsp;&nbsp;&nbsp;&nbsp;&quot;prompt_number&quot;: 92,</div><div class='line' id='LC520'>&nbsp;&nbsp;&nbsp;&nbsp;&nbsp;&nbsp;&nbsp;&quot;text&quot;: [</div><div class='line' id='LC521'>&nbsp;&nbsp;&nbsp;&nbsp;&nbsp;&nbsp;&nbsp;&nbsp;&quot;[&lt;matplotlib.lines.Line2D at 0x275c5d90&gt;]&quot;</div><div class='line' id='LC522'>&nbsp;&nbsp;&nbsp;&nbsp;&nbsp;&nbsp;&nbsp;]</div><div class='line' id='LC523'>&nbsp;&nbsp;&nbsp;&nbsp;&nbsp;&nbsp;},</div><div class='line' id='LC524'>&nbsp;&nbsp;&nbsp;&nbsp;&nbsp;&nbsp;{</div><div class='line' id='LC525'>&nbsp;&nbsp;&nbsp;&nbsp;&nbsp;&nbsp;&nbsp;&quot;output_type&quot;: &quot;display_data&quot;,</div><div class='line' id='LC526'>&nbsp;&nbsp;&nbsp;&nbsp;&nbsp;&nbsp;&nbsp;&quot;png&quot;: &quot;iVBORw0KGgoAAAANSUhEUgAAAYAAAAD9CAYAAAC1DKAUAAAABHNCSVQICAgIfAhkiAAAAAlwSFlz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\nAAAAAElFTkSuQmCC\n&quot;,</div><div class='line' id='LC527'>&nbsp;&nbsp;&nbsp;&nbsp;&nbsp;&nbsp;&nbsp;&quot;text&quot;: [</div><div class='line' id='LC528'>&nbsp;&nbsp;&nbsp;&nbsp;&nbsp;&nbsp;&nbsp;&nbsp;&quot;&lt;matplotlib.figure.Figure at 0x27158090&gt;&quot;</div><div class='line' id='LC529'>&nbsp;&nbsp;&nbsp;&nbsp;&nbsp;&nbsp;&nbsp;]</div><div class='line' id='LC530'>&nbsp;&nbsp;&nbsp;&nbsp;&nbsp;&nbsp;}</div><div class='line' id='LC531'>&nbsp;&nbsp;&nbsp;&nbsp;&nbsp;],</div><div class='line' id='LC532'>&nbsp;&nbsp;&nbsp;&nbsp;&nbsp;&quot;prompt_number&quot;: 92</div><div class='line' id='LC533'>&nbsp;&nbsp;&nbsp;&nbsp;},</div><div class='line' id='LC534'>&nbsp;&nbsp;&nbsp;&nbsp;{</div><div class='line' id='LC535'>&nbsp;&nbsp;&nbsp;&nbsp;&nbsp;&quot;cell_type&quot;: &quot;code&quot;,</div><div class='line' id='LC536'>&nbsp;&nbsp;&nbsp;&nbsp;&nbsp;&quot;collapsed&quot;: false,</div><div class='line' id='LC537'>&nbsp;&nbsp;&nbsp;&nbsp;&nbsp;&quot;input&quot;: [],</div><div class='line' id='LC538'>&nbsp;&nbsp;&nbsp;&nbsp;&nbsp;&quot;language&quot;: &quot;python&quot;,</div><div class='line' id='LC539'>&nbsp;&nbsp;&nbsp;&nbsp;&nbsp;&quot;metadata&quot;: {},</div><div class='line' id='LC540'>&nbsp;&nbsp;&nbsp;&nbsp;&nbsp;&quot;outputs&quot;: [],</div><div class='line' id='LC541'>&nbsp;&nbsp;&nbsp;&nbsp;&nbsp;&quot;prompt_number&quot;: 48</div><div class='line' id='LC542'>&nbsp;&nbsp;&nbsp;&nbsp;},</div><div class='line' id='LC543'>&nbsp;&nbsp;&nbsp;&nbsp;{</div><div class='line' id='LC544'>&nbsp;&nbsp;&nbsp;&nbsp;&nbsp;&quot;cell_type&quot;: &quot;code&quot;,</div><div class='line' id='LC545'>&nbsp;&nbsp;&nbsp;&nbsp;&nbsp;&quot;collapsed&quot;: false,</div><div class='line' id='LC546'>&nbsp;&nbsp;&nbsp;&nbsp;&nbsp;&quot;input&quot;: [],</div><div class='line' id='LC547'>&nbsp;&nbsp;&nbsp;&nbsp;&nbsp;&quot;language&quot;: &quot;python&quot;,</div><div class='line' id='LC548'>&nbsp;&nbsp;&nbsp;&nbsp;&nbsp;&quot;metadata&quot;: {},</div><div class='line' id='LC549'>&nbsp;&nbsp;&nbsp;&nbsp;&nbsp;&quot;outputs&quot;: []</div><div class='line' id='LC550'>&nbsp;&nbsp;&nbsp;&nbsp;}</div><div class='line' id='LC551'>&nbsp;&nbsp;&nbsp;],</div><div class='line' id='LC552'>&nbsp;&nbsp;&nbsp;&quot;metadata&quot;: {}</div><div class='line' id='LC553'>&nbsp;&nbsp;}</div><div class='line' id='LC554'>&nbsp;]</div><div class='line' id='LC555'>}</div></pre></div></td>
          </tr>
        </table>
  </div>

  </div>
</div>

<a href="#jump-to-line" rel="facebox[.linejump]" data-hotkey="l" class="js-jump-to-line" style="display:none">Jump to Line</a>
<div id="jump-to-line" style="display:none">
  <form accept-charset="UTF-8" class="js-jump-to-line-form">
    <input class="linejump-input js-jump-to-line-field" type="text" placeholder="Jump to line&hellip;" autofocus>
    <button type="submit" class="button">Go</button>
  </form>
</div>

        </div>

      </div><!-- /.repo-container -->
      <div class="modal-backdrop"></div>
    </div><!-- /.container -->
  </div><!-- /.site -->


    </div><!-- /.wrapper -->

      <div class="container">
  <div class="site-footer">
    <ul class="site-footer-links right">
      <li><a href="https://status.github.com/">Status</a></li>
      <li><a href="http://developer.github.com">API</a></li>
      <li><a href="http://training.github.com">Training</a></li>
      <li><a href="http://shop.github.com">Shop</a></li>
      <li><a href="/blog">Blog</a></li>
      <li><a href="/about">About</a></li>

    </ul>

    <a href="/">
      <span class="mega-octicon octicon-mark-github" title="GitHub"></span>
    </a>

    <ul class="site-footer-links">
      <li>&copy; 2014 <span title="0.07302s from github-fe136-cp1-prd.iad.github.net">GitHub</span>, Inc.</li>
        <li><a href="/site/terms">Terms</a></li>
        <li><a href="/site/privacy">Privacy</a></li>
        <li><a href="/security">Security</a></li>
        <li><a href="/contact">Contact</a></li>
    </ul>
  </div><!-- /.site-footer -->
</div><!-- /.container -->


    <div class="fullscreen-overlay js-fullscreen-overlay" id="fullscreen_overlay">
  <div class="fullscreen-container js-fullscreen-container">
    <div class="textarea-wrap">
      <textarea name="fullscreen-contents" id="fullscreen-contents" class="fullscreen-contents js-fullscreen-contents" placeholder="" data-suggester="fullscreen_suggester"></textarea>
    </div>
  </div>
  <div class="fullscreen-sidebar">
    <a href="#" class="exit-fullscreen js-exit-fullscreen tooltipped tooltipped-w" aria-label="Exit Zen Mode">
      <span class="mega-octicon octicon-screen-normal"></span>
    </a>
    <a href="#" class="theme-switcher js-theme-switcher tooltipped tooltipped-w"
      aria-label="Switch themes">
      <span class="octicon octicon-color-mode"></span>
    </a>
  </div>
</div>



    <div id="ajax-error-message" class="flash flash-error">
      <span class="octicon octicon-alert"></span>
      <a href="#" class="octicon octicon-remove-close close js-ajax-error-dismiss"></a>
      Something went wrong with that request. Please try again.
    </div>

  </body>
</html>

