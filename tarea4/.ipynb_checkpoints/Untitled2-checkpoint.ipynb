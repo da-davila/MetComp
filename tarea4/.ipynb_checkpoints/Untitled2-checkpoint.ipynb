{
 "metadata": {
  "name": "",
  "signature": "sha256:8b782de535c9d4bd442a482896ef9c467394dcbfef16fe4ee3ac4496ffd59893"
 },
 "nbformat": 3,
 "nbformat_minor": 0,
 "worksheets": []
}